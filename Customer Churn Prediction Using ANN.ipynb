{
  "cells": [
    {
      "attachments": {},
      "cell_type": "markdown",
      "metadata": {
        "id": "5iuRcAZjrNVX"
      },
      "source": [
        "# 1 - Introduction"
      ]
    },
    {
      "attachments": {},
      "cell_type": "markdown",
      "metadata": {
        "id": "Ty8ZPDKSrR5D"
      },
      "source": [
        "Nama : Dicky Librata Sembiring \n",
        "\n",
        "Dataset : Churn\n",
        "\n",
        "Objective : Memprediksi Customer yang akan berhenti (churn)\n",
        "\n",
        "\n",
        "## Link Streamlit\n",
        "https://huggingface.co/spaces/barentz96/Milestone_1_Phase_2"
      ]
    },
    {
      "cell_type": "markdown",
      "metadata": {
        "id": "QMO5-0oCrd_8"
      },
      "source": [
        "# 2 - Import Libraries"
      ]
    },
    {
      "attachments": {},
      "cell_type": "markdown",
      "metadata": {
        "id": "Hm7rEWBvrhXs"
      },
      "source": [
        "> Berikut adalah library python yang digunakan"
      ]
    },
    {
      "cell_type": "code",
      "execution_count": 1,
      "metadata": {
        "id": "jpgVz0BXrgmi"
      },
      "outputs": [],
      "source": [
        "# Import Libraries\n",
        "%matplotlib inline\n",
        "import pandas as pd\n",
        "import numpy as np\n",
        "import seaborn as sns\n",
        "import matplotlib.pyplot as plt\n",
        "\n",
        "import tensorflow as tf\n",
        "from tensorflow import keras\n",
        "from keras.callbacks import EarlyStopping,ModelCheckpoint\n",
        "\n",
        "from feature_engine.outliers import Winsorizer\n",
        "from sklearn.model_selection import train_test_split\n",
        "from sklearn.preprocessing import StandardScaler, OneHotEncoder, OrdinalEncoder\n",
        "\n",
        "from sklearn.compose import ColumnTransformer\n",
        "\n",
        "from statsmodels.stats.outliers_influence import variance_inflation_factor\n",
        "\n",
        "import phik\n",
        "from phik import resources, report\n",
        "\n",
        "import pickle\n",
        "\n",
        "np.random.seed(0)"
      ]
    },
    {
      "attachments": {},
      "cell_type": "markdown",
      "metadata": {
        "id": "5KMpETCZr8bw"
      },
      "source": [
        "# 3 - Data Loading"
      ]
    },
    {
      "attachments": {},
      "cell_type": "markdown",
      "metadata": {
        "id": "BdZdnH2_r_ci"
      },
      "source": [
        "> Selanjutnya dilakukan loading dataset. Kemudian beberapa eksplorasi sederhana seperti melihat jumlah baris dan kolom data, nama dan type data masing - masing kolom, serta basic info dari data yang telah di load"
      ]
    },
    {
      "cell_type": "code",
      "execution_count": 2,
      "metadata": {
        "colab": {
          "base_uri": "https://localhost:8080/",
          "height": 540
        },
        "id": "82KtCauTsD3Y",
        "outputId": "5391cbfb-3f95-42f5-dda8-59971e98c7d9"
      },
      "outputs": [],
      "source": [
        "# Load Dataset\n",
        "df_ori = pd.read_csv('churn.csv', parse_dates=['joining_date'])\n",
        "\n",
        "# Setting display pandas dataframe showing all columns\n",
        "pd.set_option('display.max_columns', None) \n",
        "# Setting format floating to 2 decimal\n",
        "pd.options.display.float_format = '{:.2f}'.format"
      ]
    },
    {
      "attachments": {},
      "cell_type": "markdown",
      "metadata": {},
      "source": [
        "Dari sumber dataset, penulis memperoleh informasi mengnai masing - masing column sebagai berikut:\n",
        "\n",
        "| Column | Description |\n",
        "| --- | --- |\n",
        "| `user_id` | ID of a customer |\n",
        "| `age` | Age of a customer |\n",
        "| `gender` | Gender of a customer |\n",
        "| `region_category` | Region that a customer belongs to |\n",
        "| `membership_category` | Category of the membership that a customer is using |\n",
        "| `joining_date` | Date when a customer became a member |\n",
        "| `joined_through referral` | Whether a customer joined using any referral code or ID |\n",
        "| `preferred_offer types` | Type of offer that a customer prefers |\n",
        "| `medium_of operation` | Medium of operation that a customer uses for transactions |\n",
        "| `internet_option` | Type of internet service a customer uses |\n",
        "| `last_visit_time` | The last time a customer visited the website |\n",
        "| `days_since_last_login` | Number of days since a customer last logged into the website |\n",
        "| `avg_time_spent` | Average time spent by a customer on the website |\n",
        "| `avg_transaction_value` | Average transaction value of a customer |\n",
        "| `avg_frequency_login_days` | Number of times a customer has logged in to the website |\n",
        "| `points_in_wallet` | Points awarded to a customer on each transaction |\n",
        "| `used_special_discount` | Whether a customer uses special discounts offered |\n",
        "| `offer_application_preference` | Whether a customer prefers offers |\n",
        "| `past_complaint` | Whether a customer has raised any complaints |\n",
        "| `complaint_status` | Whether the complaints raised by a customer was resolved |\n",
        "| `feedback` | Feedback provided by a customer |\n",
        "| `churn_risk_score` | Churn score <br><br> `0` : Not churn <br> `1` : Churn |"
      ]
    },
    {
      "cell_type": "code",
      "execution_count": 3,
      "metadata": {
        "id": "pKP0YmOqsTkZ"
      },
      "outputs": [
        {
          "data": {
            "text/html": [
              "<div>\n",
              "<style scoped>\n",
              "    .dataframe tbody tr th:only-of-type {\n",
              "        vertical-align: middle;\n",
              "    }\n",
              "\n",
              "    .dataframe tbody tr th {\n",
              "        vertical-align: top;\n",
              "    }\n",
              "\n",
              "    .dataframe thead th {\n",
              "        text-align: right;\n",
              "    }\n",
              "</style>\n",
              "<table border=\"1\" class=\"dataframe\">\n",
              "  <thead>\n",
              "    <tr style=\"text-align: right;\">\n",
              "      <th></th>\n",
              "      <th>user_id</th>\n",
              "      <th>age</th>\n",
              "      <th>gender</th>\n",
              "      <th>region_category</th>\n",
              "      <th>membership_category</th>\n",
              "      <th>joining_date</th>\n",
              "      <th>joined_through_referral</th>\n",
              "      <th>preferred_offer_types</th>\n",
              "      <th>medium_of_operation</th>\n",
              "      <th>internet_option</th>\n",
              "      <th>last_visit_time</th>\n",
              "      <th>days_since_last_login</th>\n",
              "      <th>avg_time_spent</th>\n",
              "      <th>avg_transaction_value</th>\n",
              "      <th>avg_frequency_login_days</th>\n",
              "      <th>points_in_wallet</th>\n",
              "      <th>used_special_discount</th>\n",
              "      <th>offer_application_preference</th>\n",
              "      <th>past_complaint</th>\n",
              "      <th>complaint_status</th>\n",
              "      <th>feedback</th>\n",
              "      <th>churn_risk_score</th>\n",
              "    </tr>\n",
              "  </thead>\n",
              "  <tbody>\n",
              "    <tr>\n",
              "      <th>0</th>\n",
              "      <td>9f420209e7d129f3</td>\n",
              "      <td>29</td>\n",
              "      <td>F</td>\n",
              "      <td>NaN</td>\n",
              "      <td>No Membership</td>\n",
              "      <td>2017-04-05</td>\n",
              "      <td>Yes</td>\n",
              "      <td>Without Offers</td>\n",
              "      <td>NaN</td>\n",
              "      <td>Wi-Fi</td>\n",
              "      <td>22:29:49</td>\n",
              "      <td>4</td>\n",
              "      <td>1184.49</td>\n",
              "      <td>38604.69</td>\n",
              "      <td>10.00</td>\n",
              "      <td>627.48</td>\n",
              "      <td>Yes</td>\n",
              "      <td>Yes</td>\n",
              "      <td>Yes</td>\n",
              "      <td>No Information Available</td>\n",
              "      <td>Poor Website</td>\n",
              "      <td>1</td>\n",
              "    </tr>\n",
              "    <tr>\n",
              "      <th>1</th>\n",
              "      <td>ac6e97806267549e</td>\n",
              "      <td>50</td>\n",
              "      <td>M</td>\n",
              "      <td>NaN</td>\n",
              "      <td>Basic Membership</td>\n",
              "      <td>2017-03-31</td>\n",
              "      <td>Yes</td>\n",
              "      <td>Without Offers</td>\n",
              "      <td>Desktop</td>\n",
              "      <td>Fiber_Optic</td>\n",
              "      <td>15:44:56</td>\n",
              "      <td>11</td>\n",
              "      <td>338.15</td>\n",
              "      <td>7665.66</td>\n",
              "      <td>17.00</td>\n",
              "      <td>575.97</td>\n",
              "      <td>Yes</td>\n",
              "      <td>No</td>\n",
              "      <td>Yes</td>\n",
              "      <td>No Information Available</td>\n",
              "      <td>Poor Customer Service</td>\n",
              "      <td>1</td>\n",
              "    </tr>\n",
              "    <tr>\n",
              "      <th>2</th>\n",
              "      <td>a6aa19b1580eed4e</td>\n",
              "      <td>26</td>\n",
              "      <td>F</td>\n",
              "      <td>City</td>\n",
              "      <td>Silver Membership</td>\n",
              "      <td>2017-02-11</td>\n",
              "      <td>NaN</td>\n",
              "      <td>Credit/Debit Card Offers</td>\n",
              "      <td>NaN</td>\n",
              "      <td>Fiber_Optic</td>\n",
              "      <td>20:31:53</td>\n",
              "      <td>8</td>\n",
              "      <td>235.14</td>\n",
              "      <td>37671.69</td>\n",
              "      <td>5.00</td>\n",
              "      <td>767.93</td>\n",
              "      <td>Yes</td>\n",
              "      <td>No</td>\n",
              "      <td>Yes</td>\n",
              "      <td>No Information Available</td>\n",
              "      <td>Too many ads</td>\n",
              "      <td>0</td>\n",
              "    </tr>\n",
              "    <tr>\n",
              "      <th>3</th>\n",
              "      <td>aeee343277211c2f</td>\n",
              "      <td>63</td>\n",
              "      <td>F</td>\n",
              "      <td>Village</td>\n",
              "      <td>No Membership</td>\n",
              "      <td>2015-12-23</td>\n",
              "      <td>No</td>\n",
              "      <td>Credit/Debit Card Offers</td>\n",
              "      <td>Desktop</td>\n",
              "      <td>Fiber_Optic</td>\n",
              "      <td>14:28:05</td>\n",
              "      <td>10</td>\n",
              "      <td>56.67</td>\n",
              "      <td>15678.14</td>\n",
              "      <td>11.00</td>\n",
              "      <td>590.22</td>\n",
              "      <td>No</td>\n",
              "      <td>Yes</td>\n",
              "      <td>No</td>\n",
              "      <td>Not Applicable</td>\n",
              "      <td>Too many ads</td>\n",
              "      <td>1</td>\n",
              "    </tr>\n",
              "    <tr>\n",
              "      <th>4</th>\n",
              "      <td>82448b5c8ce6390c</td>\n",
              "      <td>64</td>\n",
              "      <td>M</td>\n",
              "      <td>Town</td>\n",
              "      <td>Silver Membership</td>\n",
              "      <td>2015-03-20</td>\n",
              "      <td>NaN</td>\n",
              "      <td>Gift Vouchers/Coupons</td>\n",
              "      <td>Smartphone</td>\n",
              "      <td>Wi-Fi</td>\n",
              "      <td>04:16:48</td>\n",
              "      <td>9</td>\n",
              "      <td>153.99</td>\n",
              "      <td>8422.68</td>\n",
              "      <td>0.00</td>\n",
              "      <td>722.04</td>\n",
              "      <td>Yes</td>\n",
              "      <td>No</td>\n",
              "      <td>No</td>\n",
              "      <td>Not Applicable</td>\n",
              "      <td>Poor Product Quality</td>\n",
              "      <td>0</td>\n",
              "    </tr>\n",
              "  </tbody>\n",
              "</table>\n",
              "</div>"
            ],
            "text/plain": [
              "            user_id  age gender region_category membership_category  \\\n",
              "0  9f420209e7d129f3   29      F             NaN       No Membership   \n",
              "1  ac6e97806267549e   50      M             NaN    Basic Membership   \n",
              "2  a6aa19b1580eed4e   26      F            City   Silver Membership   \n",
              "3  aeee343277211c2f   63      F         Village       No Membership   \n",
              "4  82448b5c8ce6390c   64      M            Town   Silver Membership   \n",
              "\n",
              "  joining_date joined_through_referral     preferred_offer_types  \\\n",
              "0   2017-04-05                     Yes            Without Offers   \n",
              "1   2017-03-31                     Yes            Without Offers   \n",
              "2   2017-02-11                     NaN  Credit/Debit Card Offers   \n",
              "3   2015-12-23                      No  Credit/Debit Card Offers   \n",
              "4   2015-03-20                     NaN     Gift Vouchers/Coupons   \n",
              "\n",
              "  medium_of_operation internet_option last_visit_time  days_since_last_login  \\\n",
              "0                 NaN           Wi-Fi        22:29:49                      4   \n",
              "1             Desktop     Fiber_Optic        15:44:56                     11   \n",
              "2                 NaN     Fiber_Optic        20:31:53                      8   \n",
              "3             Desktop     Fiber_Optic        14:28:05                     10   \n",
              "4          Smartphone           Wi-Fi        04:16:48                      9   \n",
              "\n",
              "   avg_time_spent  avg_transaction_value  avg_frequency_login_days  \\\n",
              "0         1184.49               38604.69                     10.00   \n",
              "1          338.15                7665.66                     17.00   \n",
              "2          235.14               37671.69                      5.00   \n",
              "3           56.67               15678.14                     11.00   \n",
              "4          153.99                8422.68                      0.00   \n",
              "\n",
              "   points_in_wallet used_special_discount offer_application_preference  \\\n",
              "0            627.48                   Yes                          Yes   \n",
              "1            575.97                   Yes                           No   \n",
              "2            767.93                   Yes                           No   \n",
              "3            590.22                    No                          Yes   \n",
              "4            722.04                   Yes                           No   \n",
              "\n",
              "  past_complaint          complaint_status               feedback  \\\n",
              "0            Yes  No Information Available           Poor Website   \n",
              "1            Yes  No Information Available  Poor Customer Service   \n",
              "2            Yes  No Information Available           Too many ads   \n",
              "3             No            Not Applicable           Too many ads   \n",
              "4             No            Not Applicable   Poor Product Quality   \n",
              "\n",
              "   churn_risk_score  \n",
              "0                 1  \n",
              "1                 1  \n",
              "2                 0  \n",
              "3                 1  \n",
              "4                 0  "
            ]
          },
          "execution_count": 3,
          "metadata": {},
          "output_type": "execute_result"
        }
      ],
      "source": [
        "# Duplicate Dataset\n",
        "# Dilakukan agar data set original tidak berubah apabila dilakukan pengolahan pada data\n",
        "df = df_ori.copy()\n",
        "# Showing First 10 Data\n",
        "df.head()"
      ]
    },
    {
      "cell_type": "code",
      "execution_count": 4,
      "metadata": {},
      "outputs": [
        {
          "name": "stdout",
          "output_type": "stream",
          "text": [
            "Jumlah baris : 37010\n",
            "Jumlah kolom : 22\n",
            "Nama kolom : Index(['user_id', 'age', 'gender', 'region_category', 'membership_category',\n",
            "       'joining_date', 'joined_through_referral', 'preferred_offer_types',\n",
            "       'medium_of_operation', 'internet_option', 'last_visit_time',\n",
            "       'days_since_last_login', 'avg_time_spent', 'avg_transaction_value',\n",
            "       'avg_frequency_login_days', 'points_in_wallet', 'used_special_discount',\n",
            "       'offer_application_preference', 'past_complaint', 'complaint_status',\n",
            "       'feedback', 'churn_risk_score'],\n",
            "      dtype='object')\n"
          ]
        }
      ],
      "source": [
        "# Jumlah baris dan kolom serta nama kolom\n",
        "print(f\"Jumlah baris : {df.shape[0]}\")\n",
        "print(f\"Jumlah kolom : {df.shape[1]}\")\n",
        "print(f\"Nama kolom : {df.columns}\")\n"
      ]
    },
    {
      "cell_type": "code",
      "execution_count": 5,
      "metadata": {
        "colab": {
          "base_uri": "https://localhost:8080/"
        },
        "id": "B3T2BTeytQFM",
        "outputId": "65d2e467-5d60-4672-be08-ff2421dabc47"
      },
      "outputs": [
        {
          "name": "stdout",
          "output_type": "stream",
          "text": [
            "<class 'pandas.core.frame.DataFrame'>\n",
            "RangeIndex: 37010 entries, 0 to 37009\n",
            "Data columns (total 22 columns):\n",
            " #   Column                        Non-Null Count  Dtype         \n",
            "---  ------                        --------------  -----         \n",
            " 0   user_id                       37010 non-null  object        \n",
            " 1   age                           37010 non-null  int64         \n",
            " 2   gender                        36951 non-null  object        \n",
            " 3   region_category               31579 non-null  object        \n",
            " 4   membership_category           37010 non-null  object        \n",
            " 5   joining_date                  37010 non-null  datetime64[ns]\n",
            " 6   joined_through_referral       31568 non-null  object        \n",
            " 7   preferred_offer_types         36722 non-null  object        \n",
            " 8   medium_of_operation           31615 non-null  object        \n",
            " 9   internet_option               37010 non-null  object        \n",
            " 10  last_visit_time               37010 non-null  object        \n",
            " 11  days_since_last_login         37010 non-null  int64         \n",
            " 12  avg_time_spent                37010 non-null  float64       \n",
            " 13  avg_transaction_value         37010 non-null  float64       \n",
            " 14  avg_frequency_login_days      37010 non-null  float64       \n",
            " 15  points_in_wallet              37010 non-null  float64       \n",
            " 16  used_special_discount         37010 non-null  object        \n",
            " 17  offer_application_preference  37010 non-null  object        \n",
            " 18  past_complaint                37010 non-null  object        \n",
            " 19  complaint_status              37010 non-null  object        \n",
            " 20  feedback                      37010 non-null  object        \n",
            " 21  churn_risk_score              37010 non-null  int64         \n",
            "dtypes: datetime64[ns](1), float64(4), int64(3), object(14)\n",
            "memory usage: 6.2+ MB\n"
          ]
        }
      ],
      "source": [
        "# Check basic info Dataset\n",
        "df.info()"
      ]
    },
    {
      "cell_type": "code",
      "execution_count": 6,
      "metadata": {},
      "outputs": [
        {
          "data": {
            "text/html": [
              "<div>\n",
              "<style scoped>\n",
              "    .dataframe tbody tr th:only-of-type {\n",
              "        vertical-align: middle;\n",
              "    }\n",
              "\n",
              "    .dataframe tbody tr th {\n",
              "        vertical-align: top;\n",
              "    }\n",
              "\n",
              "    .dataframe thead th {\n",
              "        text-align: right;\n",
              "    }\n",
              "</style>\n",
              "<table border=\"1\" class=\"dataframe\">\n",
              "  <thead>\n",
              "    <tr style=\"text-align: right;\">\n",
              "      <th></th>\n",
              "      <th>count</th>\n",
              "      <th>mean</th>\n",
              "      <th>std</th>\n",
              "      <th>min</th>\n",
              "      <th>25%</th>\n",
              "      <th>50%</th>\n",
              "      <th>75%</th>\n",
              "      <th>max</th>\n",
              "    </tr>\n",
              "  </thead>\n",
              "  <tbody>\n",
              "    <tr>\n",
              "      <th>age</th>\n",
              "      <td>37010.00</td>\n",
              "      <td>37.12</td>\n",
              "      <td>15.87</td>\n",
              "      <td>10.00</td>\n",
              "      <td>23.00</td>\n",
              "      <td>37.00</td>\n",
              "      <td>51.00</td>\n",
              "      <td>64.00</td>\n",
              "    </tr>\n",
              "    <tr>\n",
              "      <th>days_since_last_login</th>\n",
              "      <td>37010.00</td>\n",
              "      <td>-41.94</td>\n",
              "      <td>228.88</td>\n",
              "      <td>-999.00</td>\n",
              "      <td>8.00</td>\n",
              "      <td>12.00</td>\n",
              "      <td>16.00</td>\n",
              "      <td>26.00</td>\n",
              "    </tr>\n",
              "    <tr>\n",
              "      <th>avg_time_spent</th>\n",
              "      <td>37010.00</td>\n",
              "      <td>279.20</td>\n",
              "      <td>330.02</td>\n",
              "      <td>0.00</td>\n",
              "      <td>60.12</td>\n",
              "      <td>161.77</td>\n",
              "      <td>356.52</td>\n",
              "      <td>3235.58</td>\n",
              "    </tr>\n",
              "    <tr>\n",
              "      <th>avg_transaction_value</th>\n",
              "      <td>37010.00</td>\n",
              "      <td>29272.43</td>\n",
              "      <td>19445.96</td>\n",
              "      <td>800.46</td>\n",
              "      <td>14177.83</td>\n",
              "      <td>27554.49</td>\n",
              "      <td>40858.67</td>\n",
              "      <td>99914.05</td>\n",
              "    </tr>\n",
              "    <tr>\n",
              "      <th>avg_frequency_login_days</th>\n",
              "      <td>37010.00</td>\n",
              "      <td>14.66</td>\n",
              "      <td>9.48</td>\n",
              "      <td>0.00</td>\n",
              "      <td>7.00</td>\n",
              "      <td>14.00</td>\n",
              "      <td>22.00</td>\n",
              "      <td>73.06</td>\n",
              "    </tr>\n",
              "    <tr>\n",
              "      <th>points_in_wallet</th>\n",
              "      <td>37010.00</td>\n",
              "      <td>623.59</td>\n",
              "      <td>270.22</td>\n",
              "      <td>0.00</td>\n",
              "      <td>574.22</td>\n",
              "      <td>680.40</td>\n",
              "      <td>756.99</td>\n",
              "      <td>2069.07</td>\n",
              "    </tr>\n",
              "    <tr>\n",
              "      <th>churn_risk_score</th>\n",
              "      <td>37010.00</td>\n",
              "      <td>0.54</td>\n",
              "      <td>0.50</td>\n",
              "      <td>0.00</td>\n",
              "      <td>0.00</td>\n",
              "      <td>1.00</td>\n",
              "      <td>1.00</td>\n",
              "      <td>1.00</td>\n",
              "    </tr>\n",
              "  </tbody>\n",
              "</table>\n",
              "</div>"
            ],
            "text/plain": [
              "                            count     mean      std     min      25%      50%  \\\n",
              "age                      37010.00    37.12    15.87   10.00    23.00    37.00   \n",
              "days_since_last_login    37010.00   -41.94   228.88 -999.00     8.00    12.00   \n",
              "avg_time_spent           37010.00   279.20   330.02    0.00    60.12   161.77   \n",
              "avg_transaction_value    37010.00 29272.43 19445.96  800.46 14177.83 27554.49   \n",
              "avg_frequency_login_days 37010.00    14.66     9.48    0.00     7.00    14.00   \n",
              "points_in_wallet         37010.00   623.59   270.22    0.00   574.22   680.40   \n",
              "churn_risk_score         37010.00     0.54     0.50    0.00     0.00     1.00   \n",
              "\n",
              "                              75%      max  \n",
              "age                         51.00    64.00  \n",
              "days_since_last_login       16.00    26.00  \n",
              "avg_time_spent             356.52  3235.58  \n",
              "avg_transaction_value    40858.67 99914.05  \n",
              "avg_frequency_login_days    22.00    73.06  \n",
              "points_in_wallet           756.99  2069.07  \n",
              "churn_risk_score             1.00     1.00  "
            ]
          },
          "execution_count": 6,
          "metadata": {},
          "output_type": "execute_result"
        }
      ],
      "source": [
        "# Check Numerical Dataset \n",
        "df.describe().T"
      ]
    },
    {
      "attachments": {},
      "cell_type": "markdown",
      "metadata": {
        "id": "84WS2s69tmrs"
      },
      "source": [
        "Berdasarkan tabel, dapat dilihat bahwa column `Age` memiliki rata-rata `37.12`. Boleh di asumsikan bahwa secara global, mayoritas customer merupakan masyarakat dengan usia produktif"
      ]
    },
    {
      "attachments": {},
      "cell_type": "markdown",
      "metadata": {},
      "source": [
        "Dari informasi diatas penulis memutuskan untuk melakukan droping kolom `user_id`, Karena hanya berisi informasi untuk masing masing customer dan tidak relevan untuk digunkan sebagai pembelajaran model"
      ]
    },
    {
      "cell_type": "code",
      "execution_count": 7,
      "metadata": {},
      "outputs": [],
      "source": [
        "# Drop column Id\n",
        "df = df.drop(columns=['user_id'])"
      ]
    },
    {
      "attachments": {},
      "cell_type": "markdown",
      "metadata": {
        "id": "E1OHrikJt3qb"
      },
      "source": [
        "# 4 - Exploratory Data Analysis (EDA)"
      ]
    },
    {
      "attachments": {},
      "cell_type": "markdown",
      "metadata": {},
      "source": [
        "Setelah mengetahui beberapa info dasar, penulis kemudian melakukan eksplorasi lanjutan berupa pengecekan apakah ada data yang memiliki `duplicate` atau `missing value`, cek `distribusi data`, mencari `Insight` yang dapat disimpulkan, serta mencari hubungan setiap kolom terhadap kolom `churn risk score` yang merupakan target dari dataset ini\n",
        "\n",
        "Langkah pertama adalah melakukan Extracting kolom `joining date` menjadi beberapa kolom seperti `tahun`, `bulan`, dan `jumlah hari sejak join`\n",
        "\n",
        "Setelah itu melakukan droping kolom joining date karena sudah tidak relevan"
      ]
    },
    {
      "cell_type": "code",
      "execution_count": 8,
      "metadata": {},
      "outputs": [],
      "source": [
        "# extract year\n",
        "df['year'] = df['joining_date'].dt.year\n",
        "df['year'] = df['joining_date'].astype(str)\n",
        "# extract month\n",
        "df['month'] = df['joining_date'].dt.month\n"
      ]
    },
    {
      "cell_type": "code",
      "execution_count": 9,
      "metadata": {},
      "outputs": [],
      "source": [
        "# find maximum date\n",
        "max_date = df['joining_date'].max()\n",
        "\n",
        "# calculate difference in days between date and maximum date\n",
        "df['days_since_join'] = (max_date - df['joining_date']).dt.days\n",
        "\n",
        "# drop joining date column\n",
        "df = df.drop(columns=['joining_date', 'last_visit_time'])"
      ]
    },
    {
      "attachments": {},
      "cell_type": "markdown",
      "metadata": {},
      "source": [
        "Dari data loading, diperoleh informasi bahwa days_since_last_login memiliki nilai minimum `-999`. Ini merupakan missing value yang tidak natural. Sehingga penulis melakukan penggantian nilai `-999` menjadi `0`"
      ]
    },
    {
      "cell_type": "code",
      "execution_count": 10,
      "metadata": {},
      "outputs": [],
      "source": [
        "# replace -999 to 0\n",
        "df.days_since_last_login.replace({-999: 0}, inplace=True)"
      ]
    },
    {
      "attachments": {},
      "cell_type": "markdown",
      "metadata": {},
      "source": [
        "Setelah melakukan feature extraction pada beberapa kolom, penulis mencari korelasi antara setiap kolom dengan kolom `churn_risk_score` sebagai target dengan menggunakan `phi korelasi`"
      ]
    },
    {
      "cell_type": "code",
      "execution_count": 11,
      "metadata": {},
      "outputs": [
        {
          "name": "stdout",
          "output_type": "stream",
          "text": [
            "interval columns not set, guessing: ['age', 'days_since_last_login', 'avg_time_spent', 'avg_transaction_value', 'avg_frequency_login_days', 'points_in_wallet', 'churn_risk_score', 'month', 'days_since_join']\n"
          ]
        },
        {
          "name": "stderr",
          "output_type": "stream",
          "text": [
            "d:\\Miniconda\\envs\\tf\\lib\\site-packages\\phik\\data_quality.py:57: UserWarning: The number of unique values of variable year is large: 1096. Are you sure this is not an interval variable? Analysis for pairs of variables including year can be slow.\n",
            "  warnings.warn(\n"
          ]
        }
      ],
      "source": [
        "# Cek nilai korelasi semua fitur dengan kolom price\n",
        "val_phik = df.phik_matrix().churn_risk_score"
      ]
    },
    {
      "cell_type": "code",
      "execution_count": 12,
      "metadata": {},
      "outputs": [
        {
          "data": {
            "text/plain": [
              "churn_risk_score               1.00\n",
              "membership_category            0.94\n",
              "feedback                       0.46\n",
              "points_in_wallet               0.45\n",
              "avg_transaction_value          0.41\n",
              "avg_frequency_login_days       0.17\n",
              "joined_through_referral        0.06\n",
              "offer_application_preference   0.03\n",
              "preferred_offer_types          0.03\n",
              "avg_time_spent                 0.02\n",
              "days_since_join                0.02\n",
              "days_since_last_login          0.02\n",
              "used_special_discount          0.01\n",
              "region_category                0.01\n",
              "medium_of_operation            0.01\n",
              "past_complaint                 0.01\n",
              "month                          0.01\n",
              "complaint_status               0.00\n",
              "internet_option                0.00\n",
              "gender                         0.00\n",
              "year                           0.00\n",
              "age                            0.00\n",
              "Name: churn_risk_score, dtype: float64"
            ]
          },
          "execution_count": 12,
          "metadata": {},
          "output_type": "execute_result"
        }
      ],
      "source": [
        "# Sort nilai korelasi phi_k secara descending\n",
        "val_phik = val_phik.sort_values(ascending=False)\n",
        "val_phik"
      ]
    },
    {
      "attachments": {},
      "cell_type": "markdown",
      "metadata": {},
      "source": [
        "Nilai korelasi `phi_k` adalah `0 = tidak berkorelasi` dan `1 = sangat berkorelasi`.\n",
        "\n",
        "Dari nilai ini penulis menentukan threshold `0.02` yang memiliki arti `minimal terdapat 2 percent koreleasi`\n",
        "\n",
        "Sehingga diperoleh dataset baru seperti berikut ini"
      ]
    },
    {
      "cell_type": "code",
      "execution_count": 13,
      "metadata": {},
      "outputs": [
        {
          "data": {
            "text/html": [
              "<div>\n",
              "<style scoped>\n",
              "    .dataframe tbody tr th:only-of-type {\n",
              "        vertical-align: middle;\n",
              "    }\n",
              "\n",
              "    .dataframe tbody tr th {\n",
              "        vertical-align: top;\n",
              "    }\n",
              "\n",
              "    .dataframe thead th {\n",
              "        text-align: right;\n",
              "    }\n",
              "</style>\n",
              "<table border=\"1\" class=\"dataframe\">\n",
              "  <thead>\n",
              "    <tr style=\"text-align: right;\">\n",
              "      <th></th>\n",
              "      <th>churn_risk_score</th>\n",
              "      <th>membership_category</th>\n",
              "      <th>feedback</th>\n",
              "      <th>points_in_wallet</th>\n",
              "      <th>avg_transaction_value</th>\n",
              "      <th>avg_frequency_login_days</th>\n",
              "      <th>joined_through_referral</th>\n",
              "      <th>offer_application_preference</th>\n",
              "      <th>preferred_offer_types</th>\n",
              "      <th>avg_time_spent</th>\n",
              "      <th>days_since_join</th>\n",
              "      <th>days_since_last_login</th>\n",
              "    </tr>\n",
              "  </thead>\n",
              "  <tbody>\n",
              "    <tr>\n",
              "      <th>0</th>\n",
              "      <td>1</td>\n",
              "      <td>No Membership</td>\n",
              "      <td>Poor Website</td>\n",
              "      <td>627.48</td>\n",
              "      <td>38604.69</td>\n",
              "      <td>10.00</td>\n",
              "      <td>Yes</td>\n",
              "      <td>Yes</td>\n",
              "      <td>Without Offers</td>\n",
              "      <td>1184.49</td>\n",
              "      <td>270</td>\n",
              "      <td>4</td>\n",
              "    </tr>\n",
              "    <tr>\n",
              "      <th>1</th>\n",
              "      <td>1</td>\n",
              "      <td>Basic Membership</td>\n",
              "      <td>Poor Customer Service</td>\n",
              "      <td>575.97</td>\n",
              "      <td>7665.66</td>\n",
              "      <td>17.00</td>\n",
              "      <td>Yes</td>\n",
              "      <td>No</td>\n",
              "      <td>Without Offers</td>\n",
              "      <td>338.15</td>\n",
              "      <td>275</td>\n",
              "      <td>11</td>\n",
              "    </tr>\n",
              "    <tr>\n",
              "      <th>2</th>\n",
              "      <td>0</td>\n",
              "      <td>Silver Membership</td>\n",
              "      <td>Too many ads</td>\n",
              "      <td>767.93</td>\n",
              "      <td>37671.69</td>\n",
              "      <td>5.00</td>\n",
              "      <td>NaN</td>\n",
              "      <td>No</td>\n",
              "      <td>Credit/Debit Card Offers</td>\n",
              "      <td>235.14</td>\n",
              "      <td>323</td>\n",
              "      <td>8</td>\n",
              "    </tr>\n",
              "  </tbody>\n",
              "</table>\n",
              "</div>"
            ],
            "text/plain": [
              "   churn_risk_score membership_category               feedback  \\\n",
              "0                 1       No Membership           Poor Website   \n",
              "1                 1    Basic Membership  Poor Customer Service   \n",
              "2                 0   Silver Membership           Too many ads   \n",
              "\n",
              "   points_in_wallet  avg_transaction_value  avg_frequency_login_days  \\\n",
              "0            627.48               38604.69                     10.00   \n",
              "1            575.97                7665.66                     17.00   \n",
              "2            767.93               37671.69                      5.00   \n",
              "\n",
              "  joined_through_referral offer_application_preference  \\\n",
              "0                     Yes                          Yes   \n",
              "1                     Yes                           No   \n",
              "2                     NaN                           No   \n",
              "\n",
              "      preferred_offer_types  avg_time_spent  days_since_join  \\\n",
              "0            Without Offers         1184.49              270   \n",
              "1            Without Offers          338.15              275   \n",
              "2  Credit/Debit Card Offers          235.14              323   \n",
              "\n",
              "   days_since_last_login  \n",
              "0                      4  \n",
              "1                     11  \n",
              "2                      8  "
            ]
          },
          "execution_count": 13,
          "metadata": {},
          "output_type": "execute_result"
        }
      ],
      "source": [
        "df = df[val_phik[0:12].index]\n",
        "df.head(3)"
      ]
    },
    {
      "attachments": {},
      "cell_type": "markdown",
      "metadata": {},
      "source": [
        "Dari dataset baru, kemudian penulis menentukan apakah suatu kolom termasuk numerikal atau kategorikal dan kolom target"
      ]
    },
    {
      "cell_type": "code",
      "execution_count": 14,
      "metadata": {},
      "outputs": [
        {
          "name": "stdout",
          "output_type": "stream",
          "text": [
            "Numerical Columns :  ['points_in_wallet', 'avg_transaction_value', 'avg_frequency_login_days', 'avg_time_spent', 'days_since_join', 'days_since_last_login']\n",
            "\n",
            "Categorical Columns :  ['membership_category', 'joined_through_referral', 'feedback', 'offer_application_preference', 'preferred_offer_types']\n"
          ]
        }
      ],
      "source": [
        "# separate numerikal and string type\n",
        "num_col = ['points_in_wallet', 'avg_transaction_value', 'avg_frequency_login_days', 'avg_time_spent', 'days_since_join', 'days_since_last_login']\n",
        "\n",
        "cat_col = ['membership_category', 'joined_through_referral', 'feedback', 'offer_application_preference', 'preferred_offer_types']\n",
        "\n",
        "target = ['churn_risk_score']\n",
        "\n",
        "print('Numerical Columns : ', num_col)\n",
        "print('\\nCategorical Columns : ', cat_col)"
      ]
    },
    {
      "attachments": {},
      "cell_type": "markdown",
      "metadata": {},
      "source": [
        "## Cek Missing Value dan Duplicate\n",
        "Dari dataset baru kemudian dilakukan pengecekan missing value dan data duplicate karena model tidak dapat menerima missing value dan duplikat data akan membuat hasil prediksi model menjadi bias. Sehingga dilakukan proses handling missing value dan data dupilkat"
      ]
    },
    {
      "cell_type": "code",
      "execution_count": 15,
      "metadata": {},
      "outputs": [
        {
          "name": "stdout",
          "output_type": "stream",
          "text": [
            "joined_through_referral  :  5442\n",
            "Percentage of missing value joined_through_referral : 14.70%\n",
            "preferred_offer_types  :  288\n",
            "Percentage of missing value preferred_offer_types : 0.78%\n",
            "Duplicates Data : 18\n",
            "Percentage of Duplicate Data days_since_last_login : 0.05%\n"
          ]
        }
      ],
      "source": [
        "# Cek missing value dan duplicated data\n",
        "num_miss_val = 0\n",
        "for i in df:\n",
        "    miss_val = df[i].isnull().sum()\n",
        "    if miss_val > 0:\n",
        "        print(i, ' : ', miss_val)\n",
        "        print(f'Percentage of missing value {i} : {miss_val/len(df[i].values)*100:.2f}%')\n",
        "        num_miss_val += 1\n",
        "\n",
        "if num_miss_val == 0:\n",
        "    print('Tidak Ada Missing Value')\n",
        "\n",
        "print(f\"Duplicates Data : {df.duplicated().sum()}\")\n",
        "print(f'Percentage of Duplicate Data {i} : {(df.duplicated().sum()/len(df[i].values)*100):.2f}%')"
      ]
    },
    {
      "attachments": {},
      "cell_type": "markdown",
      "metadata": {},
      "source": [
        "- Ditemukan missing value pada dataset yaitu pada kolom `joined_through_referral` dengan jumlah `5442` data dan `preferred_offer_types` sebanyak `288` data. Karena total data secara global cukup besar sehingga akan dilakukan `trimming` untuk menghindari nilai sintetis pada dataset\n",
        "\n",
        "- Terdapat `18` data duplicate pada dataset yaitu `0.05%` dari jumlah keseluruhan data. Karena salah satu kriteria ( asumsi ) yang harus di penuhi pada machine learning adalah `tidak ada duplicate data` maka harus dilakukan `trimming` pada data ini.\n"
      ]
    },
    {
      "cell_type": "code",
      "execution_count": 16,
      "metadata": {},
      "outputs": [],
      "source": [
        "# Drop missing value\n",
        "df= df.dropna()\n",
        "\n",
        "# Drop data duplicate\n",
        "df = df.drop_duplicates()"
      ]
    },
    {
      "cell_type": "code",
      "execution_count": 17,
      "metadata": {},
      "outputs": [
        {
          "name": "stdout",
          "output_type": "stream",
          "text": [
            "Tidak Ada Missing Value\n",
            "Duplicates Data : 0\n",
            "Percentage of Duplicate Data days_since_last_login : 0.00%\n"
          ]
        }
      ],
      "source": [
        "# Cek kembali missing value dan duplicated data\n",
        "num_miss_val = 0\n",
        "for i in df:\n",
        "    miss_val = df[i].isnull().sum()\n",
        "    if miss_val > 0:\n",
        "        print(i, ' : ', miss_val)\n",
        "        print(f'Percentage of missing value {i} : {miss_val/len(df[i].values):.2f}%')\n",
        "        num_miss_val += 1\n",
        "\n",
        "if num_miss_val == 0:\n",
        "    print('Tidak Ada Missing Value')\n",
        "\n",
        "print(f\"Duplicates Data : {df.duplicated().sum()}\")\n",
        "print(f'Percentage of Duplicate Data {i} : {df.duplicated().sum()/len(df[i].values):.2f}%')"
      ]
    },
    {
      "attachments": {},
      "cell_type": "markdown",
      "metadata": {},
      "source": [
        "Setelah tidak ada data yang memiliki missing value maupun data duplicate selanjutnya dilakukan analisa deskiriptif untuk memperoleh insight data dataset"
      ]
    },
    {
      "attachments": {},
      "cell_type": "markdown",
      "metadata": {},
      "source": [
        "## Analisa Deskriptif\n",
        "\n",
        "Karena model yang akan di bangun adalah prediksi `customer churn`, maka penulis berfokus pada analisa kolom `churn risk score`"
      ]
    },
    {
      "attachments": {},
      "cell_type": "markdown",
      "metadata": {},
      "source": [
        "### Global Customer"
      ]
    },
    {
      "cell_type": "code",
      "execution_count": 18,
      "metadata": {},
      "outputs": [
        {
          "name": "stdout",
          "output_type": "stream",
          "text": [
            "1    16895\n",
            "0    14414\n",
            "Name: churn_risk_score, dtype: int64\n",
            "1   0.54\n",
            "0   0.46\n",
            "Name: churn_risk_score, dtype: float64\n"
          ]
        }
      ],
      "source": [
        "# Jumlah dan persentase customer menurut churn score\n",
        "print(df['churn_risk_score'].value_counts())\n",
        "print(df['churn_risk_score'].value_counts(normalize=True))"
      ]
    },
    {
      "cell_type": "code",
      "execution_count": 19,
      "metadata": {},
      "outputs": [
        {
          "data": {
            "text/html": [
              "<div>\n",
              "<style scoped>\n",
              "    .dataframe tbody tr th:only-of-type {\n",
              "        vertical-align: middle;\n",
              "    }\n",
              "\n",
              "    .dataframe tbody tr th {\n",
              "        vertical-align: top;\n",
              "    }\n",
              "\n",
              "    .dataframe thead th {\n",
              "        text-align: right;\n",
              "    }\n",
              "</style>\n",
              "<table border=\"1\" class=\"dataframe\">\n",
              "  <thead>\n",
              "    <tr style=\"text-align: right;\">\n",
              "      <th></th>\n",
              "      <th>points_in_wallet</th>\n",
              "      <th>avg_transaction_value</th>\n",
              "      <th>avg_frequency_login_days</th>\n",
              "      <th>avg_time_spent</th>\n",
              "      <th>days_since_join</th>\n",
              "      <th>days_since_last_login</th>\n",
              "    </tr>\n",
              "    <tr>\n",
              "      <th>churn_risk_score</th>\n",
              "      <th></th>\n",
              "      <th></th>\n",
              "      <th></th>\n",
              "      <th></th>\n",
              "      <th></th>\n",
              "      <th></th>\n",
              "    </tr>\n",
              "  </thead>\n",
              "  <tbody>\n",
              "    <tr>\n",
              "      <th>0</th>\n",
              "      <td>680.49</td>\n",
              "      <td>33947.95</td>\n",
              "      <td>13.50</td>\n",
              "      <td>284.72</td>\n",
              "      <td>548.59</td>\n",
              "      <td>11.98</td>\n",
              "    </tr>\n",
              "    <tr>\n",
              "      <th>1</th>\n",
              "      <td>574.55</td>\n",
              "      <td>25364.29</td>\n",
              "      <td>15.66</td>\n",
              "      <td>275.05</td>\n",
              "      <td>541.03</td>\n",
              "      <td>12.17</td>\n",
              "    </tr>\n",
              "  </tbody>\n",
              "</table>\n",
              "</div>"
            ],
            "text/plain": [
              "                  points_in_wallet  avg_transaction_value  \\\n",
              "churn_risk_score                                            \n",
              "0                           680.49               33947.95   \n",
              "1                           574.55               25364.29   \n",
              "\n",
              "                  avg_frequency_login_days  avg_time_spent  days_since_join  \\\n",
              "churn_risk_score                                                              \n",
              "0                                    13.50          284.72           548.59   \n",
              "1                                    15.66          275.05           541.03   \n",
              "\n",
              "                  days_since_last_login  \n",
              "churn_risk_score                         \n",
              "0                                 11.98  \n",
              "1                                 12.17  "
            ]
          },
          "execution_count": 19,
          "metadata": {},
          "output_type": "execute_result"
        }
      ],
      "source": [
        "# Groupby column churn score\n",
        "df.groupby('churn_risk_score')[num_col].mean()"
      ]
    },
    {
      "attachments": {},
      "cell_type": "markdown",
      "metadata": {},
      "source": [
        "Dari dua query diatas diperoleh beberapa informasi yaitu :\n",
        "\n",
        "- Secara global, customer yang akan `churn` sebanyak `20018 customer` sedangkan yang `tidak` sebanyak `16992`\n",
        "\n",
        "- Secara global beberapa yang membedakan antara customer yang akan churn dan tidak adalah sbb :\n",
        "    - Customer yang churn memiliki :\n",
        "        - Rata - rata `points in wallet` lebih rendah dari yang tidak churn\n",
        "        - Memiliki `avg transaction` lebih sedikit dari yang tidak churn\n",
        "\n",
        "- Customer yang churn maupun yang tidak memiliki `demografi days_since_join, day since last login, avg login frequency, dan avg time spent yang relatif serupa.`"
      ]
    },
    {
      "attachments": {},
      "cell_type": "markdown",
      "metadata": {},
      "source": [
        "### Customer Churn"
      ]
    },
    {
      "cell_type": "code",
      "execution_count": 20,
      "metadata": {},
      "outputs": [
        {
          "data": {
            "image/png": "[encoded data removed]",
            "text/plain": [
              "<Figure size 1600x1200 with 5 Axes>"
            ]
          },
          "metadata": {},
          "output_type": "display_data"
        }
      ],
      "source": [
        "# Making a figure with 16 x 12 size\n",
        "plt.figure(figsize=[16,12])\n",
        "df_1 = df[df['churn_risk_score']==1]\n",
        "\n",
        "count  = 321\n",
        "for i in cat_col:\n",
        "    plt.subplot(count)\n",
        "    sns.barplot(data=df_1, y=df_1.groupby(i).size().index, x=df_1.groupby(i).size().values)\n",
        "    plt.title(i)\n",
        "    plt.ylabel('')\n",
        "    count += 1\n"
      ]
    },
    {
      "attachments": {},
      "cell_type": "markdown",
      "metadata": {},
      "source": [
        "Dari visualisasi diatas penulis memperoleh informasi mengenai customer yang akan churn sbb :\n",
        "- Mayoritas Adalah customer yang tidak memiliki membership dan basic membership dan sedikit customer dengan gold dan silver membership\n",
        "- Semua feedback dari customer adalah feedback yang buruk\n",
        "- Perbandingan antara customer yang mendaftar dengan refferal dan tidak relatif sama\n",
        "- Perbandingan antara customer yang menggunakan offer dan jenis offer yang di pakai juga relatif sama"
      ]
    },
    {
      "attachments": {},
      "cell_type": "markdown",
      "metadata": {},
      "source": [
        "### Customer Not Churn"
      ]
    },
    {
      "cell_type": "code",
      "execution_count": 21,
      "metadata": {},
      "outputs": [
        {
          "data": {
            "image/png": "[encoded data removed]",
            "text/plain": [
              "<Figure size 1600x1200 with 5 Axes>"
            ]
          },
          "metadata": {},
          "output_type": "display_data"
        }
      ],
      "source": [
        "# Making a figure with 16 x 12 size\n",
        "plt.figure(figsize=[16,12])\n",
        "df_1 = df[df['churn_risk_score']==0]\n",
        "\n",
        "count  = 321\n",
        "for i in cat_col:\n",
        "    plt.subplot(count)\n",
        "    sns.barplot(data=df_1, y=df_1.groupby(i).size().index, x=df_1.groupby(i).size().values)\n",
        "    plt.title(i)\n",
        "    plt.ylabel('')\n",
        "    count += 1\n"
      ]
    },
    {
      "attachments": {},
      "cell_type": "markdown",
      "metadata": {},
      "source": [
        "Dari visualisasi diatas penulis memperoleh informasi mengenai customer yang tidak churn sbb :\n",
        "- Sangat sedikit customer yang tidak memiliki membership ataupun hanya basic membership\n",
        "- Feedback negatif mendominasi meski terdapat juga feedback positif \n",
        "- Perbandingan antara customer yang mendaftar dengan refferal dan tidak relatif sama\n",
        "- Perbandingan antara customer yang menggunakan offer dan jenis offer yang di pakai juga relatif sama"
      ]
    },
    {
      "attachments": {},
      "cell_type": "markdown",
      "metadata": {
        "id": "HRIo5JZ-v1M6"
      },
      "source": [
        "# 5 - Feature Engineering"
      ]
    },
    {
      "attachments": {},
      "cell_type": "markdown",
      "metadata": {},
      "source": [
        "Setelah memperoleh informasi pada analisa deskriptif, penulis ingin melakukan data preprosesing sebelum digunakan dalam model training"
      ]
    },
    {
      "attachments": {},
      "cell_type": "markdown",
      "metadata": {},
      "source": [
        "## Cek Distrisbusi Data Target"
      ]
    },
    {
      "cell_type": "code",
      "execution_count": 22,
      "metadata": {},
      "outputs": [
        {
          "data": {
            "image/png": "[encoded data removed]",
            "text/plain": [
              "<Figure size 600x300 with 1 Axes>"
            ]
          },
          "metadata": {},
          "output_type": "display_data"
        }
      ],
      "source": [
        "plt.figure(figsize=[6,3])\n",
        "df[target].value_counts().plot(kind='bar')\n",
        "plt.show()"
      ]
    },
    {
      "attachments": {},
      "cell_type": "markdown",
      "metadata": {},
      "source": [
        "## Cek Multicolinarity\n",
        "Pengecekan multicolinarity menggunakan nilai dari VIF ( Variance Inflation Factor )"
      ]
    },
    {
      "cell_type": "code",
      "execution_count": 23,
      "metadata": {},
      "outputs": [
        {
          "data": {
            "text/html": [
              "<div>\n",
              "<style scoped>\n",
              "    .dataframe tbody tr th:only-of-type {\n",
              "        vertical-align: middle;\n",
              "    }\n",
              "\n",
              "    .dataframe tbody tr th {\n",
              "        vertical-align: top;\n",
              "    }\n",
              "\n",
              "    .dataframe thead th {\n",
              "        text-align: right;\n",
              "    }\n",
              "</style>\n",
              "<table border=\"1\" class=\"dataframe\">\n",
              "  <thead>\n",
              "    <tr style=\"text-align: right;\">\n",
              "      <th></th>\n",
              "      <th>variables</th>\n",
              "      <th>VIF</th>\n",
              "    </tr>\n",
              "  </thead>\n",
              "  <tbody>\n",
              "    <tr>\n",
              "      <th>0</th>\n",
              "      <td>points_in_wallet</td>\n",
              "      <td>4.66</td>\n",
              "    </tr>\n",
              "    <tr>\n",
              "      <th>1</th>\n",
              "      <td>avg_transaction_value</td>\n",
              "      <td>2.88</td>\n",
              "    </tr>\n",
              "    <tr>\n",
              "      <th>2</th>\n",
              "      <td>avg_frequency_login_days</td>\n",
              "      <td>2.90</td>\n",
              "    </tr>\n",
              "    <tr>\n",
              "      <th>3</th>\n",
              "      <td>avg_time_spent</td>\n",
              "      <td>1.63</td>\n",
              "    </tr>\n",
              "    <tr>\n",
              "      <th>4</th>\n",
              "      <td>days_since_join</td>\n",
              "      <td>3.36</td>\n",
              "    </tr>\n",
              "    <tr>\n",
              "      <th>5</th>\n",
              "      <td>days_since_last_login</td>\n",
              "      <td>3.82</td>\n",
              "    </tr>\n",
              "  </tbody>\n",
              "</table>\n",
              "</div>"
            ],
            "text/plain": [
              "                  variables  VIF\n",
              "0          points_in_wallet 4.66\n",
              "1     avg_transaction_value 2.88\n",
              "2  avg_frequency_login_days 2.90\n",
              "3            avg_time_spent 1.63\n",
              "4           days_since_join 3.36\n",
              "5     days_since_last_login 3.82"
            ]
          },
          "execution_count": 23,
          "metadata": {},
          "output_type": "execute_result"
        }
      ],
      "source": [
        "# make vif function\n",
        "def calc_vif(X):\n",
        "\n",
        "    # Calculating VIF\n",
        "    vif = pd.DataFrame()\n",
        "    vif[\"variables\"] = X.columns\n",
        "    vif[\"VIF\"] = [variance_inflation_factor(X.values, i) for i in range(X.shape[1])]\n",
        "\n",
        "    return(vif)\n",
        "    \n",
        "# check vif value\n",
        "X = df[num_col]\n",
        "calc_vif(X)"
      ]
    },
    {
      "attachments": {},
      "cell_type": "markdown",
      "metadata": {},
      "source": [
        "Dari hasil pengecekan diperoleh bahwa `semua kolom` Memiliki Nilai Multicolinarity yang cukup rendah"
      ]
    },
    {
      "attachments": {},
      "cell_type": "markdown",
      "metadata": {
        "id": "Skv54voXziM6"
      },
      "source": [
        "## Splitting Train and Validation and Test\n",
        "Karena data sedikit imbalance maka split data mempertimbangkan persentase imbalance data dengan mengatur parameter `stratify` pada fungsi train tes split"
      ]
    },
    {
      "cell_type": "code",
      "execution_count": 24,
      "metadata": {},
      "outputs": [
        {
          "name": "stdout",
          "output_type": "stream",
          "text": [
            "train size : (28178, 12)\n",
            "test size : (3131, 12)\n"
          ]
        }
      ],
      "source": [
        "# Pisahkan data train dan data test dengan train test split\n",
        "data_train, data_test = train_test_split(df, test_size=0.1, random_state=10, stratify=df[target])\n",
        "print(f\"train size : {data_train.shape}\")\n",
        "print(f\"test size : {data_test.shape}\")"
      ]
    },
    {
      "cell_type": "code",
      "execution_count": 25,
      "metadata": {},
      "outputs": [
        {
          "name": "stdout",
          "output_type": "stream",
          "text": [
            "train size : (25360, 12)\n",
            "validation size : (2818, 12)\n"
          ]
        }
      ],
      "source": [
        "# Pisahkan data train dan data validation dengan train test split\n",
        "data_train, data_validation = train_test_split(data_train, train_size=0.9, random_state=10, stratify=data_train[target])\n",
        "print(f\"train size : {data_train.shape}\")\n",
        "print(f\"validation size : {data_validation.shape}\")"
      ]
    },
    {
      "attachments": {},
      "cell_type": "markdown",
      "metadata": {
        "id": "Ld3liX4qz-WY"
      },
      "source": [
        "## Handling Outlier\n",
        "Beberapa algoritma machine learning senstif terhadap outlier sehinggal dilakukan handling outlier berdasarkan distribusi datanya"
      ]
    },
    {
      "attachments": {},
      "cell_type": "markdown",
      "metadata": {
        "id": "Y_G_ldq11oC7"
      },
      "source": [
        "### Nilai Skew Fitur Numerikal"
      ]
    },
    {
      "cell_type": "code",
      "execution_count": 26,
      "metadata": {},
      "outputs": [
        {
          "name": "stdout",
          "output_type": "stream",
          "text": [
            "Nilai Skew points_in_wallet : -0.7835031875629218\n",
            "Nilai Skew avg_transaction_value : 1.0135284692051725\n",
            "Nilai Skew avg_frequency_login_days : 0.37877010752364354\n",
            "Nilai Skew avg_time_spent : 2.2635990633472556\n",
            "Nilai Skew days_since_join : 0.012356882324334906\n",
            "Nilai Skew days_since_last_login : -0.12507354289470834\n"
          ]
        }
      ],
      "source": [
        "# Looping untuk menghitung nilai skew fitur numerikal\n",
        "for i in num_col:\n",
        "        print(f'Nilai Skew {i} : {data_train[i].skew()}')"
      ]
    },
    {
      "cell_type": "code",
      "execution_count": 27,
      "metadata": {},
      "outputs": [
        {
          "data": {
            "image/png": "[encoded data removed]",
            "text/plain": [
              "<Figure size 1600x1200 with 6 Axes>"
            ]
          },
          "metadata": {},
          "output_type": "display_data"
        }
      ],
      "source": [
        "plt.figure(figsize=[16,12])\n",
        "\n",
        "count = 321\n",
        "for i in num_col:\n",
        "    plt.subplot(count)\n",
        "    sns.histplot(data=df, x=i, bins=30, kde=True)\n",
        "    plt.title(i)\n",
        "    plt.xlabel('')\n",
        "    \n",
        "    count += 1\n"
      ]
    },
    {
      "attachments": {},
      "cell_type": "markdown",
      "metadata": {},
      "source": [
        "Dari nilai skew masing masing kolom dan hasil plotting akan dijadikan acuan untuk pemillihan metode pengecekan outlier. Kolom dengan nilai skew `lebih dari 0.5 dan kurang dari -0.5` adalah kolom dengan `distribusi tidak normal` dan akan dilakukan pengecekan dengan metode `tukey's rule`. Sedangkan yang lainnya memilliki `distribusi normal` dilakukan pengecekan dengan `Z-Score`"
      ]
    },
    {
      "cell_type": "code",
      "execution_count": 28,
      "metadata": {},
      "outputs": [],
      "source": [
        "# Buat fungsi untuk cek outlier\n",
        "def cek_outlier(data,col):\n",
        "  skew = data[col].skew()\n",
        "  if skew>=-0.5 and skew<=0.5:\n",
        "    upper_boundary = data[col].mean() + 3*data[col].std()\n",
        "    lower_boundary = data[col].mean() - 3*data[col].std()\n",
        "  else:\n",
        "    Q1 = np.quantile(data[col], 0.25)\n",
        "    Q3 = np.quantile(data[col], 0.75)\n",
        "    IQR =  Q3 - Q1\n",
        "    upper_boundary = Q3 + 3 * IQR\n",
        "    lower_boundary = Q1 - 3 * IQR\n",
        "  \n",
        "  outliers = data[(data[col]<lower_boundary) | (data[col]>upper_boundary)]\n",
        "  data_clean = data[(data[col]>=lower_boundary) & (data[col]<=upper_boundary)]\n",
        "  outliers_percent = len(outliers) / len(data) * 100\n",
        "\n",
        "  return data_clean, outliers, outliers_percent"
      ]
    },
    {
      "attachments": {},
      "cell_type": "markdown",
      "metadata": {},
      "source": [
        "Selanjutnya akan dilakukan pengecekan pada setiap kolom apakah memiliki persentasi outlier lebih dari 5% atau tidak. Persentase ini akan menentukan bagaimana cara handling outlier tersebut"
      ]
    },
    {
      "cell_type": "code",
      "execution_count": 29,
      "metadata": {},
      "outputs": [
        {
          "name": "stdout",
          "output_type": "stream",
          "text": [
            "Kolom dengan persentase outlier Under 5 %\n",
            "avg_transaction_value  = 0.00 %\n",
            "avg_frequency_login_days  = 0.80 %\n",
            "avg_time_spent  = 2.34 %\n",
            "days_since_join  = 0.00 %\n",
            "days_since_last_login  = 0.00 %\n",
            "\n",
            "Kolom dengan persentase outlier Over 5 %\n",
            "points_in_wallet  = 10.16 %\n"
          ]
        }
      ],
      "source": [
        "# Make variabel for feature with ouliers more and less than 5%\n",
        "under_5 = []\n",
        "over_5 = []\n",
        "\n",
        "# Looping data train numerikal\n",
        "for i in num_col:\n",
        "    data_clean, outliers, outliers_percent = cek_outlier(data_train, i)\n",
        "    if outliers_percent < 5:\n",
        "        under_5.append(i)\n",
        "    else:\n",
        "        over_5.append(i)\n",
        "\n",
        "# Print feature with outlier less than 5%\n",
        "print(f'Kolom dengan persentase outlier Under 5 %')\n",
        "for i in under_5:\n",
        "    data_clean, outliers, outliers_percent = cek_outlier(data_train, i)\n",
        "    print(f'{i}  = {outliers_percent:.2f} %')\n",
        "\n",
        "# Print feature with outlier more than 5%\n",
        "print(f'\\nKolom dengan persentase outlier Over 5 %')\n",
        "for i in over_5:\n",
        "    data_clean, outliers, outliers_percent = cek_outlier(data_train, i)\n",
        "    print(f'{i}  = {outliers_percent:.2f} %')"
      ]
    },
    {
      "attachments": {},
      "cell_type": "markdown",
      "metadata": {},
      "source": [
        "Setelah mengelompokkan feature berdasarkan persentase outlier, kemudian melakukan handling outlier sebagai berikut :\n",
        "- Less than 5%\n",
        "    - Trimming from data set\n",
        "- More than 5%\n",
        "    - Capping with winsorizer. Capping method is `iqr` because distributin of the data is skewed and fold is `1.5` for moderate skew"
      ]
    },
    {
      "cell_type": "code",
      "execution_count": 30,
      "metadata": {},
      "outputs": [],
      "source": [
        "# Trimming outlier for column with outliers under 5%\n",
        "for i in under_5:\n",
        "    data_train_clean, outliers, outliers_percent = cek_outlier(data_train, i)"
      ]
    },
    {
      "cell_type": "code",
      "execution_count": 31,
      "metadata": {},
      "outputs": [],
      "source": [
        "# Capping outliers for column with outliers over 5%\n",
        "capper = Winsorizer(capping_method='iqr', tail='both', fold=3, variables=['points_in_wallet'])\n",
        "capper.fit(data_train)\n",
        "data_train_clean = capper.transform(data_train)"
      ]
    },
    {
      "attachments": {},
      "cell_type": "markdown",
      "metadata": {
        "id": "38_NeI6F1sUa"
      },
      "source": [
        "## Handling Missing Values\n",
        "Seletah handling outlier, selanjutnya pengecekan missing value dan kemudian dilakukan handling apabila ditemukan missing value"
      ]
    },
    {
      "cell_type": "code",
      "execution_count": 32,
      "metadata": {
        "colab": {
          "base_uri": "https://localhost:8080/"
        },
        "id": "9aogBe_e2ACe",
        "outputId": "4e2fc0c8-3887-481a-9780-8161234f9001"
      },
      "outputs": [
        {
          "name": "stdout",
          "output_type": "stream",
          "text": [
            "Tidak Ada Missing Value\n"
          ]
        }
      ],
      "source": [
        "# Check Missing Values pada data train\n",
        "num_miss_val = 0\n",
        "for i in df:\n",
        "    miss_val = data_train_clean[i].isnull().sum()\n",
        "    if miss_val > 0:\n",
        "        print(i, ' : ', miss_val)\n",
        "        print(f'Percentage of missing value {i} : {miss_val/len(data_train_clean[i].values):.2f}%')\n",
        "        num_miss_val += 1\n",
        "\n",
        "if num_miss_val == 0:\n",
        "    print('Tidak Ada Missing Value')"
      ]
    },
    {
      "cell_type": "code",
      "execution_count": 33,
      "metadata": {
        "colab": {
          "base_uri": "https://localhost:8080/"
        },
        "id": "Tjs7dPQ92IjL",
        "outputId": "4584d9dc-50bc-48df-9e77-bed1825082b0"
      },
      "outputs": [
        {
          "name": "stdout",
          "output_type": "stream",
          "text": [
            "Tidak Ada Missing Value\n"
          ]
        }
      ],
      "source": [
        "# Check Missing Values pada data test\n",
        "num_miss_val = 0\n",
        "for i in df:\n",
        "    miss_val = data_test[i].isnull().sum()\n",
        "    if miss_val > 0:\n",
        "        print(i, ' : ', miss_val)\n",
        "        print(f'Percentage of missing value {i} : {miss_val/len(data_test[i].values):.2f}%')\n",
        "        num_miss_val += 1\n",
        "\n",
        "if num_miss_val == 0:\n",
        "    print('Tidak Ada Missing Value')"
      ]
    },
    {
      "attachments": {},
      "cell_type": "markdown",
      "metadata": {},
      "source": [
        "Dari pengecekan `data train` dan `data test` tidak ditemukan kolom yang memiliki `missing value`"
      ]
    },
    {
      "attachments": {},
      "cell_type": "markdown",
      "metadata": {},
      "source": [
        "## Splitting Fitur Target"
      ]
    },
    {
      "attachments": {},
      "cell_type": "markdown",
      "metadata": {},
      "source": [
        "> Setelah dataset bersih dari outlier dan missing value, selanjutnya memisahkan `fitur` dengan `target` dari masing masing `data train` dan `data test`"
      ]
    },
    {
      "cell_type": "code",
      "execution_count": 34,
      "metadata": {},
      "outputs": [
        {
          "data": {
            "text/html": [
              "<div>\n",
              "<style scoped>\n",
              "    .dataframe tbody tr th:only-of-type {\n",
              "        vertical-align: middle;\n",
              "    }\n",
              "\n",
              "    .dataframe tbody tr th {\n",
              "        vertical-align: top;\n",
              "    }\n",
              "\n",
              "    .dataframe thead th {\n",
              "        text-align: right;\n",
              "    }\n",
              "</style>\n",
              "<table border=\"1\" class=\"dataframe\">\n",
              "  <thead>\n",
              "    <tr style=\"text-align: right;\">\n",
              "      <th></th>\n",
              "      <th>membership_category</th>\n",
              "      <th>feedback</th>\n",
              "      <th>points_in_wallet</th>\n",
              "      <th>avg_transaction_value</th>\n",
              "      <th>avg_frequency_login_days</th>\n",
              "      <th>joined_through_referral</th>\n",
              "      <th>offer_application_preference</th>\n",
              "      <th>preferred_offer_types</th>\n",
              "      <th>avg_time_spent</th>\n",
              "      <th>days_since_join</th>\n",
              "      <th>days_since_last_login</th>\n",
              "    </tr>\n",
              "  </thead>\n",
              "  <tbody>\n",
              "    <tr>\n",
              "      <th>11050</th>\n",
              "      <td>Silver Membership</td>\n",
              "      <td>Poor Product Quality</td>\n",
              "      <td>702.16</td>\n",
              "      <td>27732.68</td>\n",
              "      <td>12.00</td>\n",
              "      <td>Yes</td>\n",
              "      <td>No</td>\n",
              "      <td>Gift Vouchers/Coupons</td>\n",
              "      <td>0.00</td>\n",
              "      <td>679</td>\n",
              "      <td>11</td>\n",
              "    </tr>\n",
              "    <tr>\n",
              "      <th>31489</th>\n",
              "      <td>Gold Membership</td>\n",
              "      <td>Poor Website</td>\n",
              "      <td>689.54</td>\n",
              "      <td>35980.68</td>\n",
              "      <td>26.00</td>\n",
              "      <td>No</td>\n",
              "      <td>No</td>\n",
              "      <td>Credit/Debit Card Offers</td>\n",
              "      <td>33.56</td>\n",
              "      <td>224</td>\n",
              "      <td>3</td>\n",
              "    </tr>\n",
              "    <tr>\n",
              "      <th>16939</th>\n",
              "      <td>Gold Membership</td>\n",
              "      <td>Products always in Stock</td>\n",
              "      <td>768.29</td>\n",
              "      <td>56662.15</td>\n",
              "      <td>0.00</td>\n",
              "      <td>No</td>\n",
              "      <td>No</td>\n",
              "      <td>Gift Vouchers/Coupons</td>\n",
              "      <td>102.99</td>\n",
              "      <td>612</td>\n",
              "      <td>20</td>\n",
              "    </tr>\n",
              "  </tbody>\n",
              "</table>\n",
              "</div>"
            ],
            "text/plain": [
              "      membership_category                  feedback  points_in_wallet  \\\n",
              "11050   Silver Membership      Poor Product Quality            702.16   \n",
              "31489     Gold Membership              Poor Website            689.54   \n",
              "16939     Gold Membership  Products always in Stock            768.29   \n",
              "\n",
              "       avg_transaction_value  avg_frequency_login_days  \\\n",
              "11050               27732.68                     12.00   \n",
              "31489               35980.68                     26.00   \n",
              "16939               56662.15                      0.00   \n",
              "\n",
              "      joined_through_referral offer_application_preference  \\\n",
              "11050                     Yes                           No   \n",
              "31489                      No                           No   \n",
              "16939                      No                           No   \n",
              "\n",
              "          preferred_offer_types  avg_time_spent  days_since_join  \\\n",
              "11050     Gift Vouchers/Coupons            0.00              679   \n",
              "31489  Credit/Debit Card Offers           33.56              224   \n",
              "16939     Gift Vouchers/Coupons          102.99              612   \n",
              "\n",
              "       days_since_last_login  \n",
              "11050                     11  \n",
              "31489                      3  \n",
              "16939                     20  "
            ]
          },
          "execution_count": 34,
          "metadata": {},
          "output_type": "execute_result"
        }
      ],
      "source": [
        "# Split  `X` (Features) dan `y` (Target) pada Data Train\n",
        "\n",
        "X_train = data_train_clean.drop(target, axis=1)\n",
        "y_train = data_train_clean[target]\n",
        "X_train.head(3)"
      ]
    },
    {
      "cell_type": "code",
      "execution_count": 35,
      "metadata": {},
      "outputs": [
        {
          "data": {
            "text/html": [
              "<div>\n",
              "<style scoped>\n",
              "    .dataframe tbody tr th:only-of-type {\n",
              "        vertical-align: middle;\n",
              "    }\n",
              "\n",
              "    .dataframe tbody tr th {\n",
              "        vertical-align: top;\n",
              "    }\n",
              "\n",
              "    .dataframe thead th {\n",
              "        text-align: right;\n",
              "    }\n",
              "</style>\n",
              "<table border=\"1\" class=\"dataframe\">\n",
              "  <thead>\n",
              "    <tr style=\"text-align: right;\">\n",
              "      <th></th>\n",
              "      <th>membership_category</th>\n",
              "      <th>feedback</th>\n",
              "      <th>points_in_wallet</th>\n",
              "      <th>avg_transaction_value</th>\n",
              "      <th>avg_frequency_login_days</th>\n",
              "      <th>joined_through_referral</th>\n",
              "      <th>offer_application_preference</th>\n",
              "      <th>preferred_offer_types</th>\n",
              "      <th>avg_time_spent</th>\n",
              "      <th>days_since_join</th>\n",
              "      <th>days_since_last_login</th>\n",
              "    </tr>\n",
              "  </thead>\n",
              "  <tbody>\n",
              "    <tr>\n",
              "      <th>26537</th>\n",
              "      <td>Gold Membership</td>\n",
              "      <td>Too many ads</td>\n",
              "      <td>986.84</td>\n",
              "      <td>3183.05</td>\n",
              "      <td>10.00</td>\n",
              "      <td>No</td>\n",
              "      <td>Yes</td>\n",
              "      <td>Without Offers</td>\n",
              "      <td>62.11</td>\n",
              "      <td>492</td>\n",
              "      <td>22</td>\n",
              "    </tr>\n",
              "    <tr>\n",
              "      <th>24940</th>\n",
              "      <td>No Membership</td>\n",
              "      <td>Poor Customer Service</td>\n",
              "      <td>663.65</td>\n",
              "      <td>7195.20</td>\n",
              "      <td>28.00</td>\n",
              "      <td>Yes</td>\n",
              "      <td>No</td>\n",
              "      <td>Gift Vouchers/Coupons</td>\n",
              "      <td>56.91</td>\n",
              "      <td>912</td>\n",
              "      <td>17</td>\n",
              "    </tr>\n",
              "    <tr>\n",
              "      <th>20535</th>\n",
              "      <td>Platinum Membership</td>\n",
              "      <td>Poor Product Quality</td>\n",
              "      <td>736.68</td>\n",
              "      <td>34913.69</td>\n",
              "      <td>8.00</td>\n",
              "      <td>Yes</td>\n",
              "      <td>Yes</td>\n",
              "      <td>Without Offers</td>\n",
              "      <td>527.47</td>\n",
              "      <td>780</td>\n",
              "      <td>9</td>\n",
              "    </tr>\n",
              "  </tbody>\n",
              "</table>\n",
              "</div>"
            ],
            "text/plain": [
              "       membership_category               feedback  points_in_wallet  \\\n",
              "26537      Gold Membership           Too many ads            986.84   \n",
              "24940        No Membership  Poor Customer Service            663.65   \n",
              "20535  Platinum Membership   Poor Product Quality            736.68   \n",
              "\n",
              "       avg_transaction_value  avg_frequency_login_days  \\\n",
              "26537                3183.05                     10.00   \n",
              "24940                7195.20                     28.00   \n",
              "20535               34913.69                      8.00   \n",
              "\n",
              "      joined_through_referral offer_application_preference  \\\n",
              "26537                      No                          Yes   \n",
              "24940                     Yes                           No   \n",
              "20535                     Yes                          Yes   \n",
              "\n",
              "       preferred_offer_types  avg_time_spent  days_since_join  \\\n",
              "26537         Without Offers           62.11              492   \n",
              "24940  Gift Vouchers/Coupons           56.91              912   \n",
              "20535         Without Offers          527.47              780   \n",
              "\n",
              "       days_since_last_login  \n",
              "26537                     22  \n",
              "24940                     17  \n",
              "20535                      9  "
            ]
          },
          "execution_count": 35,
          "metadata": {},
          "output_type": "execute_result"
        }
      ],
      "source": [
        "# Split  `X` (Features) dan `y` (Target) pada Data Validation\n",
        "\n",
        "X_val = data_validation.drop(target, axis=1)\n",
        "y_val = data_validation[target]\n",
        "X_val.head(3)"
      ]
    },
    {
      "cell_type": "code",
      "execution_count": 36,
      "metadata": {},
      "outputs": [
        {
          "data": {
            "text/html": [
              "<div>\n",
              "<style scoped>\n",
              "    .dataframe tbody tr th:only-of-type {\n",
              "        vertical-align: middle;\n",
              "    }\n",
              "\n",
              "    .dataframe tbody tr th {\n",
              "        vertical-align: top;\n",
              "    }\n",
              "\n",
              "    .dataframe thead th {\n",
              "        text-align: right;\n",
              "    }\n",
              "</style>\n",
              "<table border=\"1\" class=\"dataframe\">\n",
              "  <thead>\n",
              "    <tr style=\"text-align: right;\">\n",
              "      <th></th>\n",
              "      <th>membership_category</th>\n",
              "      <th>feedback</th>\n",
              "      <th>points_in_wallet</th>\n",
              "      <th>avg_transaction_value</th>\n",
              "      <th>avg_frequency_login_days</th>\n",
              "      <th>joined_through_referral</th>\n",
              "      <th>offer_application_preference</th>\n",
              "      <th>preferred_offer_types</th>\n",
              "      <th>avg_time_spent</th>\n",
              "      <th>days_since_join</th>\n",
              "      <th>days_since_last_login</th>\n",
              "    </tr>\n",
              "  </thead>\n",
              "  <tbody>\n",
              "    <tr>\n",
              "      <th>22203</th>\n",
              "      <td>Basic Membership</td>\n",
              "      <td>Poor Product Quality</td>\n",
              "      <td>710.03</td>\n",
              "      <td>9860.15</td>\n",
              "      <td>21.00</td>\n",
              "      <td>Yes</td>\n",
              "      <td>Yes</td>\n",
              "      <td>Credit/Debit Card Offers</td>\n",
              "      <td>87.05</td>\n",
              "      <td>893</td>\n",
              "      <td>9</td>\n",
              "    </tr>\n",
              "    <tr>\n",
              "      <th>7826</th>\n",
              "      <td>No Membership</td>\n",
              "      <td>Poor Website</td>\n",
              "      <td>552.05</td>\n",
              "      <td>29494.03</td>\n",
              "      <td>10.00</td>\n",
              "      <td>No</td>\n",
              "      <td>Yes</td>\n",
              "      <td>Without Offers</td>\n",
              "      <td>33.55</td>\n",
              "      <td>242</td>\n",
              "      <td>3</td>\n",
              "    </tr>\n",
              "    <tr>\n",
              "      <th>35788</th>\n",
              "      <td>Gold Membership</td>\n",
              "      <td>Poor Website</td>\n",
              "      <td>782.21</td>\n",
              "      <td>6329.02</td>\n",
              "      <td>0.00</td>\n",
              "      <td>No</td>\n",
              "      <td>Yes</td>\n",
              "      <td>Gift Vouchers/Coupons</td>\n",
              "      <td>30.92</td>\n",
              "      <td>140</td>\n",
              "      <td>25</td>\n",
              "    </tr>\n",
              "  </tbody>\n",
              "</table>\n",
              "</div>"
            ],
            "text/plain": [
              "      membership_category              feedback  points_in_wallet  \\\n",
              "22203    Basic Membership  Poor Product Quality            710.03   \n",
              "7826        No Membership          Poor Website            552.05   \n",
              "35788     Gold Membership          Poor Website            782.21   \n",
              "\n",
              "       avg_transaction_value  avg_frequency_login_days  \\\n",
              "22203                9860.15                     21.00   \n",
              "7826                29494.03                     10.00   \n",
              "35788                6329.02                      0.00   \n",
              "\n",
              "      joined_through_referral offer_application_preference  \\\n",
              "22203                     Yes                          Yes   \n",
              "7826                       No                          Yes   \n",
              "35788                      No                          Yes   \n",
              "\n",
              "          preferred_offer_types  avg_time_spent  days_since_join  \\\n",
              "22203  Credit/Debit Card Offers           87.05              893   \n",
              "7826             Without Offers           33.55              242   \n",
              "35788     Gift Vouchers/Coupons           30.92              140   \n",
              "\n",
              "       days_since_last_login  \n",
              "22203                      9  \n",
              "7826                       3  \n",
              "35788                     25  "
            ]
          },
          "execution_count": 36,
          "metadata": {},
          "output_type": "execute_result"
        }
      ],
      "source": [
        "# Split  `X` (Features) dan `y` (Target) pada Data Test\n",
        "\n",
        "X_test = data_test.drop(target, axis=1)\n",
        "y_test = data_test[target]\n",
        "X_test.head(3)"
      ]
    },
    {
      "attachments": {},
      "cell_type": "markdown",
      "metadata": {
        "id": "lYmslA4r40s3"
      },
      "source": [
        "## Split between Numerik Columns and String Columns\n",
        "\n",
        "Memisahkan kolom yang masih berbentuk string dengan yang sudah berbentuk numerik untuk dilakukan encoding pada data string dan scalling pada data numerik."
      ]
    },
    {
      "cell_type": "code",
      "execution_count": 37,
      "metadata": {},
      "outputs": [
        {
          "name": "stdout",
          "output_type": "stream",
          "text": [
            "Numerical Columns :  ['points_in_wallet', 'avg_transaction_value', 'avg_frequency_login_days', 'avg_time_spent', 'days_since_join', 'days_since_last_login']\n",
            "\n",
            "Categorical Columns :  ['membership_category', 'feedback', 'joined_through_referral', 'offer_application_preference', 'preferred_offer_types']\n"
          ]
        }
      ],
      "source": [
        "# separate numerikal and string type\n",
        "numerik = X_train.select_dtypes(include=np.number).columns.tolist()\n",
        "string = X_train.select_dtypes(include=['object']).columns.tolist()\n",
        "\n",
        "print('Numerical Columns : ', numerik)\n",
        "print('\\nCategorical Columns : ', string)"
      ]
    },
    {
      "cell_type": "markdown",
      "metadata": {
        "id": "oC5p5YDD6hyV"
      },
      "source": [
        "## Feature Scaling"
      ]
    },
    {
      "cell_type": "code",
      "execution_count": 38,
      "metadata": {
        "colab": {
          "base_uri": "https://localhost:8080/",
          "height": 488
        },
        "id": "1TIt43rt6hiq",
        "outputId": "3a4d39aa-65f7-4c3c-c113-fa750fdf7a5e"
      },
      "outputs": [
        {
          "data": {
            "text/html": [
              "<div>\n",
              "<style scoped>\n",
              "    .dataframe tbody tr th:only-of-type {\n",
              "        vertical-align: middle;\n",
              "    }\n",
              "\n",
              "    .dataframe tbody tr th {\n",
              "        vertical-align: top;\n",
              "    }\n",
              "\n",
              "    .dataframe thead th {\n",
              "        text-align: right;\n",
              "    }\n",
              "</style>\n",
              "<table border=\"1\" class=\"dataframe\">\n",
              "  <thead>\n",
              "    <tr style=\"text-align: right;\">\n",
              "      <th></th>\n",
              "      <th>points_in_wallet</th>\n",
              "      <th>avg_transaction_value</th>\n",
              "      <th>avg_frequency_login_days</th>\n",
              "      <th>avg_time_spent</th>\n",
              "      <th>days_since_join</th>\n",
              "      <th>days_since_last_login</th>\n",
              "    </tr>\n",
              "  </thead>\n",
              "  <tbody>\n",
              "    <tr>\n",
              "      <th>11050</th>\n",
              "      <td>702.16</td>\n",
              "      <td>27732.68</td>\n",
              "      <td>12.00</td>\n",
              "      <td>0.00</td>\n",
              "      <td>679</td>\n",
              "      <td>11</td>\n",
              "    </tr>\n",
              "    <tr>\n",
              "      <th>31489</th>\n",
              "      <td>689.54</td>\n",
              "      <td>35980.68</td>\n",
              "      <td>26.00</td>\n",
              "      <td>33.56</td>\n",
              "      <td>224</td>\n",
              "      <td>3</td>\n",
              "    </tr>\n",
              "    <tr>\n",
              "      <th>16939</th>\n",
              "      <td>768.29</td>\n",
              "      <td>56662.15</td>\n",
              "      <td>0.00</td>\n",
              "      <td>102.99</td>\n",
              "      <td>612</td>\n",
              "      <td>20</td>\n",
              "    </tr>\n",
              "  </tbody>\n",
              "</table>\n",
              "</div>"
            ],
            "text/plain": [
              "       points_in_wallet  avg_transaction_value  avg_frequency_login_days  \\\n",
              "11050            702.16               27732.68                     12.00   \n",
              "31489            689.54               35980.68                     26.00   \n",
              "16939            768.29               56662.15                      0.00   \n",
              "\n",
              "       avg_time_spent  days_since_join  days_since_last_login  \n",
              "11050            0.00              679                     11  \n",
              "31489           33.56              224                      3  \n",
              "16939          102.99              612                     20  "
            ]
          },
          "execution_count": 38,
          "metadata": {},
          "output_type": "execute_result"
        }
      ],
      "source": [
        "# Tampilkan numerikal data train\n",
        "X_train[numerik].head(3)"
      ]
    },
    {
      "attachments": {},
      "cell_type": "markdown",
      "metadata": {},
      "source": [
        "> Karena distribusi data pada fitur `numerikal` sudah `normal`, maka scaling dilakukan dengan menggunakan `StandarScaler`"
      ]
    },
    {
      "cell_type": "code",
      "execution_count": 39,
      "metadata": {
        "colab": {
          "base_uri": "https://localhost:8080/"
        },
        "id": "wNp903EP6hc2",
        "outputId": "32d425be-f54f-459b-e522-76756982ec1e"
      },
      "outputs": [
        {
          "data": {
            "text/html": [
              "<div>\n",
              "<style scoped>\n",
              "    .dataframe tbody tr th:only-of-type {\n",
              "        vertical-align: middle;\n",
              "    }\n",
              "\n",
              "    .dataframe tbody tr th {\n",
              "        vertical-align: top;\n",
              "    }\n",
              "\n",
              "    .dataframe thead th {\n",
              "        text-align: right;\n",
              "    }\n",
              "</style>\n",
              "<table border=\"1\" class=\"dataframe\">\n",
              "  <thead>\n",
              "    <tr style=\"text-align: right;\">\n",
              "      <th></th>\n",
              "      <th>points_in_wallet</th>\n",
              "      <th>avg_transaction_value</th>\n",
              "      <th>avg_frequency_login_days</th>\n",
              "      <th>avg_time_spent</th>\n",
              "      <th>days_since_join</th>\n",
              "      <th>days_since_last_login</th>\n",
              "    </tr>\n",
              "  </thead>\n",
              "  <tbody>\n",
              "    <tr>\n",
              "      <th>0</th>\n",
              "      <td>0.29</td>\n",
              "      <td>-0.08</td>\n",
              "      <td>-0.28</td>\n",
              "      <td>-0.85</td>\n",
              "      <td>0.42</td>\n",
              "      <td>-0.18</td>\n",
              "    </tr>\n",
              "    <tr>\n",
              "      <th>1</th>\n",
              "      <td>0.24</td>\n",
              "      <td>0.34</td>\n",
              "      <td>1.20</td>\n",
              "      <td>-0.74</td>\n",
              "      <td>-1.01</td>\n",
              "      <td>-1.48</td>\n",
              "    </tr>\n",
              "    <tr>\n",
              "      <th>2</th>\n",
              "      <td>0.55</td>\n",
              "      <td>1.40</td>\n",
              "      <td>-1.55</td>\n",
              "      <td>-0.54</td>\n",
              "      <td>0.21</td>\n",
              "      <td>1.29</td>\n",
              "    </tr>\n",
              "  </tbody>\n",
              "</table>\n",
              "</div>"
            ],
            "text/plain": [
              "   points_in_wallet  avg_transaction_value  avg_frequency_login_days  \\\n",
              "0              0.29                  -0.08                     -0.28   \n",
              "1              0.24                   0.34                      1.20   \n",
              "2              0.55                   1.40                     -1.55   \n",
              "\n",
              "   avg_time_spent  days_since_join  days_since_last_login  \n",
              "0           -0.85             0.42                  -0.18  \n",
              "1           -0.74            -1.01                  -1.48  \n",
              "2           -0.54             0.21                   1.29  "
            ]
          },
          "execution_count": 39,
          "metadata": {},
          "output_type": "execute_result"
        }
      ],
      "source": [
        "# Feature Scaling using Standard Karena Distribusi Sudah Memiliki Distribusi Normal\n",
        "\n",
        "scaler = StandardScaler()\n",
        "feature_names = scaler.get_feature_names_out(input_features=numerik)\n",
        "\n",
        "X_train_num_scaled = scaler.fit_transform(X_train[numerik])\n",
        "X_train_num_scaled = pd.DataFrame(X_train_num_scaled, columns=feature_names)\n",
        "\n",
        "X_test_num_scaled = scaler.transform(X_test[numerik])\n",
        "X_test_num_scaled = pd.DataFrame(X_test_num_scaled, columns=feature_names)\n",
        "\n",
        "X_train_num_scaled.head(3)"
      ]
    },
    {
      "attachments": {},
      "cell_type": "markdown",
      "metadata": {
        "id": "0odKc7md9CmE"
      },
      "source": [
        "## Feature Encoding\n",
        "Terdapat 2 jenis data categorical string yaitu education dan marital status. Dimana education memiliki tingkatan sehingga dilakukan encoding dengan Ordinal Encoder dan Marital status tidak memiliki tingkatan sehingga dilakukan dengan One Hot Encoder"
      ]
    },
    {
      "cell_type": "code",
      "execution_count": 40,
      "metadata": {},
      "outputs": [
        {
          "data": {
            "text/html": [
              "<div>\n",
              "<style scoped>\n",
              "    .dataframe tbody tr th:only-of-type {\n",
              "        vertical-align: middle;\n",
              "    }\n",
              "\n",
              "    .dataframe tbody tr th {\n",
              "        vertical-align: top;\n",
              "    }\n",
              "\n",
              "    .dataframe thead th {\n",
              "        text-align: right;\n",
              "    }\n",
              "</style>\n",
              "<table border=\"1\" class=\"dataframe\">\n",
              "  <thead>\n",
              "    <tr style=\"text-align: right;\">\n",
              "      <th></th>\n",
              "      <th>membership_category</th>\n",
              "      <th>feedback</th>\n",
              "      <th>joined_through_referral</th>\n",
              "      <th>offer_application_preference</th>\n",
              "      <th>preferred_offer_types</th>\n",
              "    </tr>\n",
              "  </thead>\n",
              "  <tbody>\n",
              "    <tr>\n",
              "      <th>11050</th>\n",
              "      <td>Silver Membership</td>\n",
              "      <td>Poor Product Quality</td>\n",
              "      <td>Yes</td>\n",
              "      <td>No</td>\n",
              "      <td>Gift Vouchers/Coupons</td>\n",
              "    </tr>\n",
              "    <tr>\n",
              "      <th>31489</th>\n",
              "      <td>Gold Membership</td>\n",
              "      <td>Poor Website</td>\n",
              "      <td>No</td>\n",
              "      <td>No</td>\n",
              "      <td>Credit/Debit Card Offers</td>\n",
              "    </tr>\n",
              "    <tr>\n",
              "      <th>16939</th>\n",
              "      <td>Gold Membership</td>\n",
              "      <td>Products always in Stock</td>\n",
              "      <td>No</td>\n",
              "      <td>No</td>\n",
              "      <td>Gift Vouchers/Coupons</td>\n",
              "    </tr>\n",
              "  </tbody>\n",
              "</table>\n",
              "</div>"
            ],
            "text/plain": [
              "      membership_category                  feedback joined_through_referral  \\\n",
              "11050   Silver Membership      Poor Product Quality                     Yes   \n",
              "31489     Gold Membership              Poor Website                      No   \n",
              "16939     Gold Membership  Products always in Stock                      No   \n",
              "\n",
              "      offer_application_preference     preferred_offer_types  \n",
              "11050                           No     Gift Vouchers/Coupons  \n",
              "31489                           No  Credit/Debit Card Offers  \n",
              "16939                           No     Gift Vouchers/Coupons  "
            ]
          },
          "execution_count": 40,
          "metadata": {},
          "output_type": "execute_result"
        }
      ],
      "source": [
        "# Tampilkan data train berbentuk string\n",
        "X_train[string].head(3)"
      ]
    },
    {
      "cell_type": "code",
      "execution_count": 41,
      "metadata": {},
      "outputs": [
        {
          "data": {
            "text/html": [
              "<div>\n",
              "<style scoped>\n",
              "    .dataframe tbody tr th:only-of-type {\n",
              "        vertical-align: middle;\n",
              "    }\n",
              "\n",
              "    .dataframe tbody tr th {\n",
              "        vertical-align: top;\n",
              "    }\n",
              "\n",
              "    .dataframe thead th {\n",
              "        text-align: right;\n",
              "    }\n",
              "</style>\n",
              "<table border=\"1\" class=\"dataframe\">\n",
              "  <thead>\n",
              "    <tr style=\"text-align: right;\">\n",
              "      <th></th>\n",
              "      <th>membership_category</th>\n",
              "      <th>joined_through_referral</th>\n",
              "      <th>offer_application_preference</th>\n",
              "      <th>feedback_No reason specified</th>\n",
              "      <th>feedback_Poor Customer Service</th>\n",
              "      <th>feedback_Poor Product Quality</th>\n",
              "      <th>feedback_Poor Website</th>\n",
              "      <th>feedback_Products always in Stock</th>\n",
              "      <th>feedback_Quality Customer Care</th>\n",
              "      <th>feedback_Reasonable Price</th>\n",
              "      <th>feedback_Too many ads</th>\n",
              "      <th>feedback_User Friendly Website</th>\n",
              "      <th>preferred_offer_types_Credit/Debit Card Offers</th>\n",
              "      <th>preferred_offer_types_Gift Vouchers/Coupons</th>\n",
              "      <th>preferred_offer_types_Without Offers</th>\n",
              "    </tr>\n",
              "  </thead>\n",
              "  <tbody>\n",
              "    <tr>\n",
              "      <th>0</th>\n",
              "      <td>2.00</td>\n",
              "      <td>1.00</td>\n",
              "      <td>0.00</td>\n",
              "      <td>0.00</td>\n",
              "      <td>0.00</td>\n",
              "      <td>1.00</td>\n",
              "      <td>0.00</td>\n",
              "      <td>0.00</td>\n",
              "      <td>0.00</td>\n",
              "      <td>0.00</td>\n",
              "      <td>0.00</td>\n",
              "      <td>0.00</td>\n",
              "      <td>0.00</td>\n",
              "      <td>1.00</td>\n",
              "      <td>0.00</td>\n",
              "    </tr>\n",
              "    <tr>\n",
              "      <th>1</th>\n",
              "      <td>3.00</td>\n",
              "      <td>0.00</td>\n",
              "      <td>0.00</td>\n",
              "      <td>0.00</td>\n",
              "      <td>0.00</td>\n",
              "      <td>0.00</td>\n",
              "      <td>1.00</td>\n",
              "      <td>0.00</td>\n",
              "      <td>0.00</td>\n",
              "      <td>0.00</td>\n",
              "      <td>0.00</td>\n",
              "      <td>0.00</td>\n",
              "      <td>1.00</td>\n",
              "      <td>0.00</td>\n",
              "      <td>0.00</td>\n",
              "    </tr>\n",
              "    <tr>\n",
              "      <th>2</th>\n",
              "      <td>3.00</td>\n",
              "      <td>0.00</td>\n",
              "      <td>0.00</td>\n",
              "      <td>0.00</td>\n",
              "      <td>0.00</td>\n",
              "      <td>0.00</td>\n",
              "      <td>0.00</td>\n",
              "      <td>1.00</td>\n",
              "      <td>0.00</td>\n",
              "      <td>0.00</td>\n",
              "      <td>0.00</td>\n",
              "      <td>0.00</td>\n",
              "      <td>0.00</td>\n",
              "      <td>1.00</td>\n",
              "      <td>0.00</td>\n",
              "    </tr>\n",
              "  </tbody>\n",
              "</table>\n",
              "</div>"
            ],
            "text/plain": [
              "   membership_category  joined_through_referral  offer_application_preference  \\\n",
              "0                 2.00                     1.00                          0.00   \n",
              "1                 3.00                     0.00                          0.00   \n",
              "2                 3.00                     0.00                          0.00   \n",
              "\n",
              "   feedback_No reason specified  feedback_Poor Customer Service  \\\n",
              "0                          0.00                            0.00   \n",
              "1                          0.00                            0.00   \n",
              "2                          0.00                            0.00   \n",
              "\n",
              "   feedback_Poor Product Quality  feedback_Poor Website  \\\n",
              "0                           1.00                   0.00   \n",
              "1                           0.00                   1.00   \n",
              "2                           0.00                   0.00   \n",
              "\n",
              "   feedback_Products always in Stock  feedback_Quality Customer Care  \\\n",
              "0                               0.00                            0.00   \n",
              "1                               0.00                            0.00   \n",
              "2                               1.00                            0.00   \n",
              "\n",
              "   feedback_Reasonable Price  feedback_Too many ads  \\\n",
              "0                       0.00                   0.00   \n",
              "1                       0.00                   0.00   \n",
              "2                       0.00                   0.00   \n",
              "\n",
              "   feedback_User Friendly Website  \\\n",
              "0                            0.00   \n",
              "1                            0.00   \n",
              "2                            0.00   \n",
              "\n",
              "   preferred_offer_types_Credit/Debit Card Offers  \\\n",
              "0                                            0.00   \n",
              "1                                            1.00   \n",
              "2                                            0.00   \n",
              "\n",
              "   preferred_offer_types_Gift Vouchers/Coupons  \\\n",
              "0                                         1.00   \n",
              "1                                         0.00   \n",
              "2                                         1.00   \n",
              "\n",
              "   preferred_offer_types_Without Offers  \n",
              "0                                  0.00  \n",
              "1                                  0.00  \n",
              "2                                  0.00  "
            ]
          },
          "execution_count": 41,
          "metadata": {},
          "output_type": "execute_result"
        }
      ],
      "source": [
        "# Feature Encoding menggunakan OneHotEncoder dan OrdinalEcoder\n",
        "ohe_cat = ['feedback', 'preferred_offer_types']\n",
        "ohe = OneHotEncoder(sparse=False, handle_unknown='ignore')\n",
        "\n",
        "X_train_cat_ohe = ohe.fit_transform(X_train[ohe_cat])\n",
        "feature_names_ohe = ohe.get_feature_names_out(input_features=ohe_cat)\n",
        "X_train_cat_ohe = pd.DataFrame(X_train_cat_ohe, columns=feature_names_ohe)\n",
        "\n",
        "X_test_cat_ohe = ohe.transform(X_test[ohe_cat])\n",
        "X_test_cat_ohe = pd.DataFrame(X_test_cat_ohe, columns=feature_names_ohe)\n",
        "\n",
        "# make categories for ordinal encoder\n",
        "ode_cat = ['No Membership', 'Basic Membership', 'Silver Membership','Gold Membership', 'Premium Membership', 'Platinum Membership']\n",
        "# make encoder for orde feature\n",
        "ode_orde_cat = ['membership_category']\n",
        "ode = OrdinalEncoder(categories=[ode_cat])\n",
        "\n",
        "X_train_cat_ode = ode.fit_transform(X_train[ode_orde_cat])\n",
        "X_train_cat_ode = pd.DataFrame(X_train_cat_ode, columns=['membership_category'])\n",
        "\n",
        "X_test_cat_ode = ode.transform(X_test[ode_orde_cat])\n",
        "X_test_cat_ode = pd.DataFrame(X_test_cat_ode, columns=['membership_category'])\n",
        "\n",
        "X_train_cat_encoded = pd.concat([X_train_cat_ode, X_train_cat_ohe], axis=1)\n",
        "X_test_cat_encoded = pd.concat([X_test_cat_ode, X_test_cat_ohe], axis=1)\n",
        "\n",
        "# make ordinal encoder for binary column\n",
        "ode_biner_cat = ['joined_through_referral', 'offer_application_preference']\n",
        "ode_biner = OrdinalEncoder()\n",
        "\n",
        "X_train_cat_ode_biner = ode_biner.fit_transform(X_train[ode_biner_cat])\n",
        "X_train_cat_ode_biner = pd.DataFrame(X_train_cat_ode_biner, columns=['joined_through_referral', 'offer_application_preference'])\n",
        "\n",
        "X_test_cat_ode_biner = ode_biner.transform(X_test[ode_biner_cat])\n",
        "X_test_cat_ode_biner = pd.DataFrame(X_test_cat_ode_biner, columns=['joined_through_referral', 'offer_application_preference'])\n",
        "\n",
        "# concate all cloumn\n",
        "X_train_cat_encoded = pd.concat([X_train_cat_ode, X_train_cat_ode_biner, X_train_cat_ohe], axis=1)\n",
        "X_test_cat_encoded = pd.concat([X_test_cat_ode, X_test_cat_ode_biner, X_test_cat_ohe], axis=1)\n",
        "\n",
        "# X_test_cat_encoded\n",
        "X_train_cat_encoded.head(3)"
      ]
    },
    {
      "attachments": {},
      "cell_type": "markdown",
      "metadata": {
        "id": "rTIXeesw-SOX"
      },
      "source": [
        "## Making Final Data"
      ]
    },
    {
      "attachments": {},
      "cell_type": "markdown",
      "metadata": {},
      "source": [
        "Menggabungkan data numerikal yang sudah di scaling dan categorical yang sudah di encode"
      ]
    },
    {
      "cell_type": "code",
      "execution_count": 42,
      "metadata": {
        "colab": {
          "base_uri": "https://localhost:8080/"
        },
        "id": "lpcwLpP--cr-",
        "outputId": "984cc935-3d3d-4c53-d7a2-3741132a2aee"
      },
      "outputs": [
        {
          "data": {
            "text/html": [
              "<div>\n",
              "<style scoped>\n",
              "    .dataframe tbody tr th:only-of-type {\n",
              "        vertical-align: middle;\n",
              "    }\n",
              "\n",
              "    .dataframe tbody tr th {\n",
              "        vertical-align: top;\n",
              "    }\n",
              "\n",
              "    .dataframe thead th {\n",
              "        text-align: right;\n",
              "    }\n",
              "</style>\n",
              "<table border=\"1\" class=\"dataframe\">\n",
              "  <thead>\n",
              "    <tr style=\"text-align: right;\">\n",
              "      <th></th>\n",
              "      <th>points_in_wallet</th>\n",
              "      <th>avg_transaction_value</th>\n",
              "      <th>avg_frequency_login_days</th>\n",
              "      <th>avg_time_spent</th>\n",
              "      <th>days_since_join</th>\n",
              "      <th>days_since_last_login</th>\n",
              "      <th>membership_category</th>\n",
              "      <th>joined_through_referral</th>\n",
              "      <th>offer_application_preference</th>\n",
              "      <th>feedback_No reason specified</th>\n",
              "      <th>feedback_Poor Customer Service</th>\n",
              "      <th>feedback_Poor Product Quality</th>\n",
              "      <th>feedback_Poor Website</th>\n",
              "      <th>feedback_Products always in Stock</th>\n",
              "      <th>feedback_Quality Customer Care</th>\n",
              "      <th>feedback_Reasonable Price</th>\n",
              "      <th>feedback_Too many ads</th>\n",
              "      <th>feedback_User Friendly Website</th>\n",
              "      <th>preferred_offer_types_Credit/Debit Card Offers</th>\n",
              "      <th>preferred_offer_types_Gift Vouchers/Coupons</th>\n",
              "      <th>preferred_offer_types_Without Offers</th>\n",
              "    </tr>\n",
              "  </thead>\n",
              "  <tbody>\n",
              "    <tr>\n",
              "      <th>0</th>\n",
              "      <td>0.29</td>\n",
              "      <td>-0.08</td>\n",
              "      <td>-0.28</td>\n",
              "      <td>-0.85</td>\n",
              "      <td>0.42</td>\n",
              "      <td>-0.18</td>\n",
              "      <td>2.00</td>\n",
              "      <td>1.00</td>\n",
              "      <td>0.00</td>\n",
              "      <td>0.00</td>\n",
              "      <td>0.00</td>\n",
              "      <td>1.00</td>\n",
              "      <td>0.00</td>\n",
              "      <td>0.00</td>\n",
              "      <td>0.00</td>\n",
              "      <td>0.00</td>\n",
              "      <td>0.00</td>\n",
              "      <td>0.00</td>\n",
              "      <td>0.00</td>\n",
              "      <td>1.00</td>\n",
              "      <td>0.00</td>\n",
              "    </tr>\n",
              "    <tr>\n",
              "      <th>1</th>\n",
              "      <td>0.24</td>\n",
              "      <td>0.34</td>\n",
              "      <td>1.20</td>\n",
              "      <td>-0.74</td>\n",
              "      <td>-1.01</td>\n",
              "      <td>-1.48</td>\n",
              "      <td>3.00</td>\n",
              "      <td>0.00</td>\n",
              "      <td>0.00</td>\n",
              "      <td>0.00</td>\n",
              "      <td>0.00</td>\n",
              "      <td>0.00</td>\n",
              "      <td>1.00</td>\n",
              "      <td>0.00</td>\n",
              "      <td>0.00</td>\n",
              "      <td>0.00</td>\n",
              "      <td>0.00</td>\n",
              "      <td>0.00</td>\n",
              "      <td>1.00</td>\n",
              "      <td>0.00</td>\n",
              "      <td>0.00</td>\n",
              "    </tr>\n",
              "    <tr>\n",
              "      <th>2</th>\n",
              "      <td>0.55</td>\n",
              "      <td>1.40</td>\n",
              "      <td>-1.55</td>\n",
              "      <td>-0.54</td>\n",
              "      <td>0.21</td>\n",
              "      <td>1.29</td>\n",
              "      <td>3.00</td>\n",
              "      <td>0.00</td>\n",
              "      <td>0.00</td>\n",
              "      <td>0.00</td>\n",
              "      <td>0.00</td>\n",
              "      <td>0.00</td>\n",
              "      <td>0.00</td>\n",
              "      <td>1.00</td>\n",
              "      <td>0.00</td>\n",
              "      <td>0.00</td>\n",
              "      <td>0.00</td>\n",
              "      <td>0.00</td>\n",
              "      <td>0.00</td>\n",
              "      <td>1.00</td>\n",
              "      <td>0.00</td>\n",
              "    </tr>\n",
              "  </tbody>\n",
              "</table>\n",
              "</div>"
            ],
            "text/plain": [
              "   points_in_wallet  avg_transaction_value  avg_frequency_login_days  \\\n",
              "0              0.29                  -0.08                     -0.28   \n",
              "1              0.24                   0.34                      1.20   \n",
              "2              0.55                   1.40                     -1.55   \n",
              "\n",
              "   avg_time_spent  days_since_join  days_since_last_login  \\\n",
              "0           -0.85             0.42                  -0.18   \n",
              "1           -0.74            -1.01                  -1.48   \n",
              "2           -0.54             0.21                   1.29   \n",
              "\n",
              "   membership_category  joined_through_referral  offer_application_preference  \\\n",
              "0                 2.00                     1.00                          0.00   \n",
              "1                 3.00                     0.00                          0.00   \n",
              "2                 3.00                     0.00                          0.00   \n",
              "\n",
              "   feedback_No reason specified  feedback_Poor Customer Service  \\\n",
              "0                          0.00                            0.00   \n",
              "1                          0.00                            0.00   \n",
              "2                          0.00                            0.00   \n",
              "\n",
              "   feedback_Poor Product Quality  feedback_Poor Website  \\\n",
              "0                           1.00                   0.00   \n",
              "1                           0.00                   1.00   \n",
              "2                           0.00                   0.00   \n",
              "\n",
              "   feedback_Products always in Stock  feedback_Quality Customer Care  \\\n",
              "0                               0.00                            0.00   \n",
              "1                               0.00                            0.00   \n",
              "2                               1.00                            0.00   \n",
              "\n",
              "   feedback_Reasonable Price  feedback_Too many ads  \\\n",
              "0                       0.00                   0.00   \n",
              "1                       0.00                   0.00   \n",
              "2                       0.00                   0.00   \n",
              "\n",
              "   feedback_User Friendly Website  \\\n",
              "0                            0.00   \n",
              "1                            0.00   \n",
              "2                            0.00   \n",
              "\n",
              "   preferred_offer_types_Credit/Debit Card Offers  \\\n",
              "0                                            0.00   \n",
              "1                                            1.00   \n",
              "2                                            0.00   \n",
              "\n",
              "   preferred_offer_types_Gift Vouchers/Coupons  \\\n",
              "0                                         1.00   \n",
              "1                                         0.00   \n",
              "2                                         1.00   \n",
              "\n",
              "   preferred_offer_types_Without Offers  \n",
              "0                                  0.00  \n",
              "1                                  0.00  \n",
              "2                                  0.00  "
            ]
          },
          "execution_count": 42,
          "metadata": {},
          "output_type": "execute_result"
        }
      ],
      "source": [
        "# Gabungkan kembali fitur numerikal dan kategorial\n",
        "\n",
        "X_train_concat = pd.concat([X_train_num_scaled, X_train_cat_encoded], axis=1)\n",
        "X_test_concat = pd.concat([X_test_num_scaled, X_test_cat_encoded], axis=1)\n",
        "\n",
        "X_train_concat.head(3)"
      ]
    },
    {
      "attachments": {},
      "cell_type": "markdown",
      "metadata": {},
      "source": [
        "## Making Preprocessing Transformer\n",
        "Kemudian menggabungkan beberapa preprocessing menjadi satu bagian menggunakan column transformer"
      ]
    },
    {
      "cell_type": "code",
      "execution_count": 43,
      "metadata": {},
      "outputs": [],
      "source": [
        "# make a column transformer\n",
        "preprocessor = ColumnTransformer(\n",
        "    transformers=[\n",
        "        (\"scale\", scaler, numerik),\n",
        "        (\"ohe\", ohe, ohe_cat),\n",
        "        ('ode', ode, ode_orde_cat),\n",
        "        ('ode_biner', ode_biner, ode_biner_cat)\n",
        "        ])\n",
        "\n",
        "# fit the column transformer\n",
        "preprocessor = preprocessor.fit(X_train)"
      ]
    },
    {
      "cell_type": "code",
      "execution_count": 44,
      "metadata": {},
      "outputs": [],
      "source": [
        "# trasnform all data train, data validation dan data test\n",
        "X_train_final = preprocessor.transform(X_train)\n",
        "X_val_final = preprocessor.transform(X_val)\n",
        "X_test_final = preprocessor.transform(X_test)"
      ]
    },
    {
      "attachments": {},
      "cell_type": "markdown",
      "metadata": {
        "id": "PeZTcBgy_mD8"
      },
      "source": [
        "# 6 - Model Definition"
      ]
    },
    {
      "attachments": {},
      "cell_type": "markdown",
      "metadata": {},
      "source": [
        "## Tensorflow Dataset Loading\n",
        "Setelah dataset selesai di lakukan preprocessing, selanjutnya adalah membuat membuat dataset yang sesuai untuk tensorflow menggunakan dataset yang telah dilakukan preprocessing"
      ]
    },
    {
      "cell_type": "code",
      "execution_count": 45,
      "metadata": {},
      "outputs": [],
      "source": [
        "# make train dataset\n",
        "train_dataset = tf.data.Dataset.from_tensor_slices((X_train_final, y_train))\n",
        "train_dataset = train_dataset.shuffle(buffer_size=1024).batch(128).prefetch(tf.data.AUTOTUNE)\n",
        "\n",
        "# make a validation dataset\n",
        "val_dataset = tf.data.Dataset.from_tensor_slices((X_val_final, y_val))\n",
        "val_dataset = val_dataset.batch(128).prefetch(tf.data.AUTOTUNE)\n",
        "\n",
        "# make a test dataset.\n",
        "test_dataset = tf.data.Dataset.from_tensor_slices((X_test_final, y_test))\n",
        "test_dataset = test_dataset.batch(128).prefetch(tf.data.AUTOTUNE)"
      ]
    },
    {
      "attachments": {},
      "cell_type": "markdown",
      "metadata": {},
      "source": [
        "Pada code diatas dilakukan proses `shuffling` pada data train sebelum dipecah menjadi beberapa batch dengan setiap batch berisi` 128 data`.\n",
        "\n",
        "Namun pada data validation dan data test hanya di lakukan pembagian batch saja tanpa dilakukan shuffling karena pada data validation dan data test tidak dilakukan proses training sehingga tidak diperlukan data yang konvergen."
      ]
    },
    {
      "attachments": {},
      "cell_type": "markdown",
      "metadata": {},
      "source": [
        "## Define Architecture and Compiler\n",
        "Selanjutnya penulis membangun arsitektur dari model menggunakan 2 jenis API yaitu sequential dan functional API serta compiler untuk kedua model"
      ]
    },
    {
      "cell_type": "code",
      "execution_count": 46,
      "metadata": {},
      "outputs": [],
      "source": [
        "# Model's Architecture Using Sequential API\n",
        "model_sequential = tf.keras.models.Sequential([\n",
        "    tf.keras.layers.Dense(units = X_train_final.shape[1], activation ='relu' ,input_shape=(X_train_final.shape[1], )), # input layer\n",
        "    tf.keras.layers.Dense(units = 114, activation = 'relu'), # hidden layers\n",
        "    tf.keras.layers.Dense(units = 1, activation = 'sigmoid') # output layers\n",
        "    ])"
      ]
    },
    {
      "cell_type": "code",
      "execution_count": 47,
      "metadata": {},
      "outputs": [],
      "source": [
        "# Model's Architecture Using Functional API\n",
        "input_layer = tf.keras.Input(shape=(X_train_final.shape[1],), name=\"fitur\")\n",
        "hl_1 = tf.keras.layers.Dense(21, activation=\"tanh\", name=\"dense_1\")(input_layer)\n",
        "hl_2 = tf.keras.layers.Dense(114, activation=\"tanh\", name=\"dense_2\")(hl_1)\n",
        "output_layer = tf.keras.layers.Dense(1, activation=\"sigmoid\", name=\"predictions\")(hl_2)\n",
        "model_functional = tf.keras.Model(inputs=input_layer, outputs=output_layer)"
      ]
    },
    {
      "cell_type": "code",
      "execution_count": 48,
      "metadata": {},
      "outputs": [],
      "source": [
        "# Define Training Configuration (Optimizer, Loss, Metrics)\n",
        "def model_compiler(model):\n",
        "    model.compile(\n",
        "        optimizer=\"adam\",\n",
        "        loss=\"binary_crossentropy\",\n",
        "        metrics='accuracy',\n",
        "    )\n",
        "    return model"
      ]
    },
    {
      "attachments": {},
      "cell_type": "markdown",
      "metadata": {},
      "source": [
        "Pada code diatas penulis membangun arsitektur dengan keterangan sbb :\n",
        "- Sequential API\n",
        "    - Jumlah layer 3\n",
        "        - Input layar 21 neuron sesuai dengan dimensi data train\n",
        "        - Hidden layer hanya 1 layers saja. Jumlah neuron hidden layer berdasarkan perhitungan (Jumlah data / (alfa * (Neuron Input + Neuron Output)))\n",
        "        - Output layer hanya memiliki 1 neuron sesuai dengan dimensi target\n",
        "    - Fungsi aktivasi\n",
        "        - Input layer dan hidden layer menggunakan fungsi aktivasi `relu`\n",
        "        - Output layer karena merupakan prediksi binary maka menggunakan fungsi aktivasi `sigmoid`\n",
        "- Functional API\n",
        "    - Seacara umum memiliki arsitektur yang sama pada jumlah layer dan jumlah neuron. Yang membedakan adalah functional API menggunakan fungsi aktivasi `tanh` pada input dan hidden layer\n",
        "- Compiler\n",
        "    - Compiler menggunakan metrcis `accuracy` dan loss function `binary_crossentrophy` karena target prediksi memiliki 1 label dengan binary class\n",
        "    - Optimizer yang digunakan adalah `Adaptive Moment Estimation (ADAM)`"
      ]
    },
    {
      "attachments": {},
      "cell_type": "markdown",
      "metadata": {},
      "source": [
        "## Define Callback\n",
        "Pada Artificial Neural Network perlu diberikan sebuah fungsi untuk menghentikan proses training apabila model sudah mencapai performa terbaik untuk menhindari penurunan performa model. Oleh karena itu perlu di definisikan sebuah fungsi yang memiliki kondisi tertentu agar model berhenti melakukan training"
      ]
    },
    {
      "cell_type": "code",
      "execution_count": 49,
      "metadata": {},
      "outputs": [],
      "source": [
        "# define callback\n",
        "cb_seq= [\n",
        "    EarlyStopping(monitor='val_loss', patience= 3),\n",
        "    ModelCheckpoint('model_best_seq.hdf5', monitor='val_loss', save_best_only=True)\n",
        "]\n",
        "\n",
        "cb_func= [\n",
        "    EarlyStopping(monitor='val_loss', patience=3),\n",
        "    ModelCheckpoint('model_best_func.hdf5', monitor='val_loss', save_best_only=True)\n",
        "]"
      ]
    },
    {
      "attachments": {},
      "cell_type": "markdown",
      "metadata": {},
      "source": [
        "Pada fungsi call back di atas, model akan berhenti melakukan proses training apabila `nilai loss dari data validation mengalami kenaikan` dari yang sebelumnya. Apabiala saat pembelajaran model mengalami hal tersebut sebanyak `3` kali maka model akan menghentikan proses pembelajaran"
      ]
    },
    {
      "attachments": {},
      "cell_type": "markdown",
      "metadata": {
        "id": "XudxBSKaBKsn"
      },
      "source": [
        "# 7 - Model Training\n",
        "Pada proses training model diberikan kesempatan belajar sebanyak `100 kali` namun dengan pembatasan sesuai dengan fungsi callback yang sudah di defenisikan sebelumnya."
      ]
    },
    {
      "cell_type": "code",
      "execution_count": 50,
      "metadata": {
        "colab": {
          "base_uri": "https://localhost:8080/"
        },
        "id": "2TrTtq-2BIh3",
        "outputId": "dac2cc06-f10e-424b-97dc-73c1e59ddce5"
      },
      "outputs": [],
      "source": [
        "## Compile model sequential and functional\n",
        "model_sequential_compiled = model_compiler(model_sequential)\n",
        "model_functional_compiled = model_compiler(model_functional)\n",
        "\n",
        "## Train model and save history into variabel\n",
        "with tf.device('/gpu:0'):\n",
        "    history_sequential = model_sequential_compiled.fit(train_dataset, epochs=100, verbose = 0, validation_data=val_dataset, callbacks=cb_seq)\n",
        "    history_functional = model_functional_compiled.fit(train_dataset, epochs=100, verbose = 0, validation_data=val_dataset, callbacks=cb_func)"
      ]
    },
    {
      "attachments": {},
      "cell_type": "markdown",
      "metadata": {
        "id": "07ROKh92CDI7"
      },
      "source": [
        "# 8 - Model Evaluation"
      ]
    },
    {
      "attachments": {},
      "cell_type": "markdown",
      "metadata": {},
      "source": [
        "Setelah model melakukan proses training, penulis mencoba melakukan evaluasi terhadap model dengan menggunakan data history dari proses training model"
      ]
    },
    {
      "attachments": {},
      "cell_type": "markdown",
      "metadata": {},
      "source": [
        "## Model Summary\n",
        "### Model Architecture"
      ]
    },
    {
      "cell_type": "code",
      "execution_count": 51,
      "metadata": {},
      "outputs": [
        {
          "name": "stdout",
          "output_type": "stream",
          "text": [
            "Model: \"sequential\"\n",
            "_________________________________________________________________\n",
            " Layer (type)                Output Shape              Param #   \n",
            "=================================================================\n",
            " dense (Dense)               (None, 21)                462       \n",
            "                                                                 \n",
            " dense_1 (Dense)             (None, 114)               2508      \n",
            "                                                                 \n",
            " dense_2 (Dense)             (None, 1)                 115       \n",
            "                                                                 \n",
            "=================================================================\n",
            "Total params: 3,085\n",
            "Trainable params: 3,085\n",
            "Non-trainable params: 0\n",
            "_________________________________________________________________\n"
          ]
        }
      ],
      "source": [
        "# model summary\n",
        "model_sequential_compiled.summary()"
      ]
    },
    {
      "cell_type": "code",
      "execution_count": 52,
      "metadata": {},
      "outputs": [
        {
          "name": "stdout",
          "output_type": "stream",
          "text": [
            "Model: \"model\"\n",
            "_________________________________________________________________\n",
            " Layer (type)                Output Shape              Param #   \n",
            "=================================================================\n",
            " fitur (InputLayer)          [(None, 21)]              0         \n",
            "                                                                 \n",
            " dense_1 (Dense)             (None, 21)                462       \n",
            "                                                                 \n",
            " dense_2 (Dense)             (None, 114)               2508      \n",
            "                                                                 \n",
            " predictions (Dense)         (None, 1)                 115       \n",
            "                                                                 \n",
            "=================================================================\n",
            "Total params: 3,085\n",
            "Trainable params: 3,085\n",
            "Non-trainable params: 0\n",
            "_________________________________________________________________\n"
          ]
        }
      ],
      "source": [
        "# model summary\n",
        "model_functional_compiled.summary()"
      ]
    },
    {
      "attachments": {},
      "cell_type": "markdown",
      "metadata": {},
      "source": [
        "Sesuai dengan arsitektur yand di bangun, baik model dengan sequential API maupun fucntional API memiliki informasi sbb:\n",
        "- Jumlah `Parameter` yang sama yaitu `3085` parameter. \n",
        "- Yang membedakan kedua arsitekur adalah fungsi aktivasi pada input layer dan hidden layernya.\n",
        "- Jumlah layer sama yaitu 3 layer"
      ]
    },
    {
      "attachments": {},
      "cell_type": "markdown",
      "metadata": {},
      "source": [
        "### Model Accuracy and Loss \n",
        "Dengan menggunakan history dari proses pembelajarn mode, penulis melakukan plotting terhadap akurasi dan besaran loss dari setiap cycle pembelajaran model"
      ]
    },
    {
      "cell_type": "code",
      "execution_count": 53,
      "metadata": {},
      "outputs": [
        {
          "data": {
            "image/png": "[encoded data removed]",
            "text/plain": [
              "<Figure size 1600x800 with 4 Axes>"
            ]
          },
          "metadata": {},
          "output_type": "display_data"
        }
      ],
      "source": [
        "# define epoch\n",
        "epoch_seq=len(history_sequential.epoch)\n",
        "epoch_func=len(history_functional.epoch)\n",
        "\n",
        "# make figure\n",
        "fig, ax = plt.subplots(nrows=2, ncols=2,figsize=(16,8))\n",
        "\n",
        "# plot model sequential loss\n",
        "ax[0,0].plot(range(1,epoch_seq+1),history_sequential.history['loss'],label='train_loss')\n",
        "ax[0,0].plot(range(1,epoch_seq+1),history_sequential.history['val_loss'],label='val_loss')\n",
        "ax[0,0].set_title('Sequential Loss')\n",
        "ax[0,0].legend()\n",
        "\n",
        "# plot model sequential accuracy\n",
        "ax[0,1].plot(range(1,epoch_seq+1),history_sequential.history['accuracy'],label='train_accuracy')\n",
        "ax[0,1].plot(range(1,epoch_seq+1),history_sequential.history['val_accuracy'],label='val_accuracy')\n",
        "ax[0,1].set_title('Sequential Accuracy')\n",
        "ax[0,1].legend()\n",
        "\n",
        "# plot model functional loss\n",
        "ax[1,0].plot(range(1,epoch_func+1),history_functional.history['loss'],label='train_loss')\n",
        "ax[1,0].plot(range(1,epoch_func+1),history_functional.history['val_loss'],label='val_loss')\n",
        "ax[1,0].legend()\n",
        "ax[1,0].set_title('Functional Loss')\n",
        "ax[1,0].set_xlabel('Epoch')\n",
        "\n",
        "# plot model functional accuracy\n",
        "ax[1,1].plot(range(1,epoch_func+1),history_functional.history['accuracy'],label='train_accuracy')\n",
        "ax[1,1].plot(range(1,epoch_func+1),history_functional.history['val_accuracy'],label='val_accuracy')\n",
        "ax[1,1].legend()\n",
        "ax[1,1].set_title('Functional Accuracy')\n",
        "ax[1,1].set_xlabel('Epoch')\n",
        "\n",
        "plt.show()"
      ]
    },
    {
      "attachments": {},
      "cell_type": "markdown",
      "metadata": {},
      "source": [
        "Dari hasil plot diatas diperoleh informasi sbb:\n",
        "\n",
        "- Tidak ditemukan gradient exploding maupun vanishing pada kedua model\n",
        "- Sequential\n",
        "    - Nilai loss pada validation dataset mengalami kenaikan mulai epoch 21 sehingga model menghentikan proses training sesuai kondisi fungsi callback\n",
        "    - Accuracy pada data validation menurun pada epoch ke 23\n",
        "- Functional\n",
        "    - Dari epcoh pertama loss model mengalami penurunan hingga epoch ke 25. Dari epoch ke 25 loss pada data validtion sudah meningkat\n",
        "    - Accuaracy juga mengalami hal yang sama meningkat sejak epoch pertama dan menurun pada epoch ke 25 sehingga proses training di hentikan"
      ]
    },
    {
      "attachments": {},
      "cell_type": "markdown",
      "metadata": {},
      "source": [
        "## Model Evalute on Data Test"
      ]
    },
    {
      "cell_type": "code",
      "execution_count": 54,
      "metadata": {},
      "outputs": [
        {
          "name": "stdout",
          "output_type": "stream",
          "text": [
            "Evaluate Model Sequential on test data\n",
            "Test - Loss     :  0.1532861888408661\n",
            "Test - Accuracy :  0.9335675239562988\n",
            "\n",
            "Evaluate Model Functional on test data\n",
            "Test - Loss     :  0.1642397791147232\n",
            "Test - Accuracy :  0.9313318133354187\n"
          ]
        }
      ],
      "source": [
        "## Evaluate on a dataset test.\n",
        "\n",
        "with tf.device('/gpu:0'):\n",
        "    result_sequential = model_sequential_compiled.evaluate(test_dataset, verbose=0)\n",
        "    result_functional = model_functional_compiled.evaluate(test_dataset, verbose=0)\n",
        "print(\"Evaluate Model Sequential on test data\")\n",
        "print('Test - Loss     : ', result_sequential[0])\n",
        "print('Test - Accuracy : ', result_sequential[1])\n",
        "print('')\n",
        "print(\"Evaluate Model Functional on test data\")\n",
        "print('Test - Loss     : ', result_functional[0])\n",
        "print('Test - Accuracy : ', result_functional[1])"
      ]
    },
    {
      "attachments": {},
      "cell_type": "markdown",
      "metadata": {},
      "source": [
        "Performa pada data test tidak begitu berbeda antara sequential api dan fucntinal api yaitu pada range `0.93`. \n",
        "\n",
        "Namun sedikit lebih baik pada sequntial API dengan `0.9332`\n",
        "\n",
        "Kedua model diatas sudah memiliki predikat `best fit`"
      ]
    },
    {
      "attachments": {},
      "cell_type": "markdown",
      "metadata": {},
      "source": [
        "# 9- Model Optimization\n",
        "Dari hasil evaluasi diatas, penulis mencoba melakukan beberapa optimisasi untuk mendapatkan performa yang lebih baik dari sisi nilai accuracyy, waktu training, maupun, kompleksitas dari model"
      ]
    },
    {
      "attachments": {},
      "cell_type": "markdown",
      "metadata": {},
      "source": [
        "## Define Architecture and Compiler"
      ]
    },
    {
      "attachments": {},
      "cell_type": "markdown",
      "metadata": {},
      "source": [
        "Pada code berikut penulis membangun arsitektur dengan keterangan sbb :\n",
        "- Sequential API\n",
        "    - Jumlah layer 4\n",
        "        - Input layar 21 neuron sesuai dengan dimensi data train\n",
        "        - Menambah 1 hidden layer dibanding model sebelumnya. Jumlah neuron hidden pada hidden layer dibuat sesedikit mungkin agar model memiliki waktu training yang lebih cepat. Penulis memilih kombinasi pangkat dua dari nilai 2.\n",
        "        - Output layer sama dengan model awal hanya memiliki 1 neuron sesuai dengan dimensi target\n",
        "    - Fungsi aktivasi\n",
        "        - Input layer dan hidden layer diubah menjadi fungsi aktivasi `relu` yang sebelumny adalah `tanh`\n",
        "        - Output layer karena merupakan prediksi binary maka menggunakan fungsi aktivasi `sigmoid`"
      ]
    },
    {
      "cell_type": "code",
      "execution_count": 55,
      "metadata": {},
      "outputs": [],
      "source": [
        "# Model's Architecture Using Sequential API\n",
        "model_sequential_optimize = tf.keras.models.Sequential([\n",
        "    tf.keras.layers.Dense(units = X_train_final.shape[1], activation ='relu' ,input_shape=(X_train_final.shape[1], )), # input layer\n",
        "    tf.keras.layers.Dense(units = 4, activation = 'tanh'),\n",
        "    tf.keras.layers.Dense(units = 2, activation = 'tanh'),\n",
        "    tf.keras.layers.Dense(units = 1, activation = 'sigmoid') # output layers\n",
        "    ])"
      ]
    },
    {
      "attachments": {},
      "cell_type": "markdown",
      "metadata": {},
      "source": [
        "Pada code berikut penulis membangun arsitektur dengan keterangan sbb :\n",
        "- Fucntinal API\n",
        "    - Jumlah layer 5\n",
        "        - Input layar 21 neuron sesuai dengan dimensi data train\n",
        "        - Menambah 2 hidden layer dibanding model sebelumnya sehingga total adalah 3 hidden layer. Jumlah neuron hidden pada hidden layer dibuat sesedikit mungkin agar model memiliki waktu training yang lebih cepat. Penulis memilih kombinasi pangkat dua dari nilai 2.\n",
        "        - Output layer sama dengan model awal hanya memiliki 1 neuron sesuai dengan dimensi target\n",
        "    - Fungsi aktivasi\n",
        "        - Input layer dan hidden layer diubah menjadi fungsi aktivasi `tanh` yang sebelumny adalah `relu`\n",
        "        - Output layer karena merupakan prediksi binary maka menggunakan fungsi aktivasi `sigmoid`"
      ]
    },
    {
      "cell_type": "code",
      "execution_count": 56,
      "metadata": {},
      "outputs": [],
      "source": [
        "# Model's Architecture Using Functional API\n",
        "input_layer_optimize = tf.keras.Input(shape=(X_train_final.shape[1],), name=\"fitur\")\n",
        "hl_1_optimize = tf.keras.layers.Dense(21, activation=\"relu\", name=\"dense_1\")(input_layer_optimize)\n",
        "hl_2_optimize = tf.keras.layers.Dense(8, activation=\"relu\", name=\"dense_2\")(hl_1_optimize)\n",
        "hl_3_optimize = tf.keras.layers.Dense(4, activation=\"relu\", name=\"dense_3\")(hl_2_optimize)\n",
        "hl_4_optimize = tf.keras.layers.Dense(2, activation=\"relu\", name=\"dense_4\")(hl_3_optimize)\n",
        "output_layer_optimize = tf.keras.layers.Dense(1, activation=\"sigmoid\", name=\"predictions\")(hl_4_optimize)\n",
        "model_functional_optimize = tf.keras.Model(inputs=input_layer_optimize, outputs=output_layer_optimize)"
      ]
    },
    {
      "attachments": {},
      "cell_type": "markdown",
      "metadata": {},
      "source": [
        "Compiler yang dibangun memiliki komponen penyusun sbb :\n",
        "- Compiler menggunakan metrcis `accuracy` dan loss function `binary_crossentrophy` karena target prediksi memiliki 1 label dengan binary class\n",
        "- Optimizer yang digunakan masih tetap `Adaptive Moment Estimation (ADAM)` namun diatur besaran learning rate menjadi 0.001 dengan harapan model dapat belajar lebih detail"
      ]
    },
    {
      "cell_type": "code",
      "execution_count": 57,
      "metadata": {},
      "outputs": [],
      "source": [
        "# Define Training Configuration (Optimizer, Loss, Metrics)\n",
        "def model_compiler_tune(model):\n",
        "    model.compile(\n",
        "        optimizer = tf.keras.optimizers.Adam(learning_rate=0.001),\n",
        "        loss=\"binary_crossentropy\",\n",
        "        metrics='accuracy',\n",
        "    )\n",
        "    return model"
      ]
    },
    {
      "attachments": {},
      "cell_type": "markdown",
      "metadata": {},
      "source": [
        "Fungsi yang dibangun memiliki komponen penyusun yang sama dengan sebelumnya namun hanya melakukan penambahan jumlah `patience` yang semula `3` menjadi `5`"
      ]
    },
    {
      "cell_type": "code",
      "execution_count": 58,
      "metadata": {},
      "outputs": [],
      "source": [
        "# define callback\n",
        "callbacks_seq= [\n",
        "    EarlyStopping(monitor='val_loss', patience= 5),\n",
        "    ModelCheckpoint('model_best_seq_tuned.hdf5', monitor='val_loss', save_best_only=True)\n",
        "]\n",
        "\n",
        "callbacks_func= [\n",
        "    EarlyStopping(monitor='val_loss', patience=5),\n",
        "    ModelCheckpoint('model_best_func_tuned.hdf5', monitor='val_loss', save_best_only=True)\n",
        "]"
      ]
    },
    {
      "attachments": {},
      "cell_type": "markdown",
      "metadata": {},
      "source": [
        "## Model Training"
      ]
    },
    {
      "cell_type": "code",
      "execution_count": 59,
      "metadata": {},
      "outputs": [],
      "source": [
        "## Compile model sequential and functional\n",
        "model_sequential_tuned = model_compiler_tune(model_sequential_optimize)\n",
        "model_functional_tuned = model_compiler_tune(model_functional_optimize)\n",
        "\n",
        "## Train model and save history into variabel\n",
        "with tf.device('/gpu:0'):\n",
        "    history_sequential_tuned = model_sequential_tuned.fit(train_dataset, epochs=200, verbose = 0, validation_data=val_dataset, callbacks=callbacks_seq)\n",
        "    history_functional_tuned = model_functional_tuned.fit(train_dataset, epochs=200, verbose = 0, validation_data=val_dataset, callbacks=callbacks_func)"
      ]
    },
    {
      "attachments": {},
      "cell_type": "markdown",
      "metadata": {},
      "source": [
        "## Model Summary"
      ]
    },
    {
      "cell_type": "code",
      "execution_count": 60,
      "metadata": {},
      "outputs": [
        {
          "name": "stdout",
          "output_type": "stream",
          "text": [
            "Model: \"sequential_1\"\n",
            "_________________________________________________________________\n",
            " Layer (type)                Output Shape              Param #   \n",
            "=================================================================\n",
            " dense_3 (Dense)             (None, 21)                462       \n",
            "                                                                 \n",
            " dense_4 (Dense)             (None, 4)                 88        \n",
            "                                                                 \n",
            " dense_5 (Dense)             (None, 2)                 10        \n",
            "                                                                 \n",
            " dense_6 (Dense)             (None, 1)                 3         \n",
            "                                                                 \n",
            "=================================================================\n",
            "Total params: 563\n",
            "Trainable params: 563\n",
            "Non-trainable params: 0\n",
            "_________________________________________________________________\n"
          ]
        }
      ],
      "source": [
        "# model summary\n",
        "model_sequential_tuned.summary()"
      ]
    },
    {
      "cell_type": "code",
      "execution_count": 61,
      "metadata": {},
      "outputs": [
        {
          "name": "stdout",
          "output_type": "stream",
          "text": [
            "Model: \"model_1\"\n",
            "_________________________________________________________________\n",
            " Layer (type)                Output Shape              Param #   \n",
            "=================================================================\n",
            " fitur (InputLayer)          [(None, 21)]              0         \n",
            "                                                                 \n",
            " dense_1 (Dense)             (None, 21)                462       \n",
            "                                                                 \n",
            " dense_2 (Dense)             (None, 8)                 176       \n",
            "                                                                 \n",
            " dense_3 (Dense)             (None, 4)                 36        \n",
            "                                                                 \n",
            " dense_4 (Dense)             (None, 2)                 10        \n",
            "                                                                 \n",
            " predictions (Dense)         (None, 1)                 3         \n",
            "                                                                 \n",
            "=================================================================\n",
            "Total params: 687\n",
            "Trainable params: 687\n",
            "Non-trainable params: 0\n",
            "_________________________________________________________________\n"
          ]
        }
      ],
      "source": [
        "# model summary\n",
        "model_functional_tuned.summary()"
      ]
    },
    {
      "attachments": {},
      "cell_type": "markdown",
      "metadata": {},
      "source": [
        "Model yang dibangun memiliki informasi sbb :\n",
        "- Jumlah paramater berkurang menjadi `563` pada model sequential dan `687` pada functinal dari sebelumnya `3085`\n",
        "- Jumlah layer lebih banyak"
      ]
    },
    {
      "attachments": {},
      "cell_type": "markdown",
      "metadata": {},
      "source": [
        "Kemudian penulis kembali melakukan plotting pada proses pembelajaran model berdasarkan nilai accuracy dan loss pada setiap cycle training"
      ]
    },
    {
      "cell_type": "code",
      "execution_count": 62,
      "metadata": {},
      "outputs": [
        {
          "data": {
            "image/png": "[encoded data removed]",
            "text/plain": [
              "<Figure size 1600x800 with 4 Axes>"
            ]
          },
          "metadata": {},
          "output_type": "display_data"
        }
      ],
      "source": [
        "# define epoch\n",
        "epoch_seq=len(history_sequential_tuned.epoch)\n",
        "epoch_func=len(history_functional_tuned.epoch)\n",
        "\n",
        "# make figure\n",
        "fig, ax = plt.subplots(nrows=2, ncols=2,figsize=(16,8))\n",
        "\n",
        "# plot model sequential loss\n",
        "ax[0,0].plot(range(1,epoch_seq+1),history_sequential_tuned.history['loss'],label='train_loss')\n",
        "ax[0,0].plot(range(1,epoch_seq+1),history_sequential_tuned.history['val_loss'],label='val_loss')\n",
        "ax[0,0].set_title('Loss')\n",
        "ax[0,0].legend()\n",
        "\n",
        "# plot model sequential accuracy\n",
        "ax[0,1].plot(range(1,epoch_seq+1),history_sequential_tuned.history['accuracy'],label='train_accuracy')\n",
        "ax[0,1].plot(range(1,epoch_seq+1),history_sequential_tuned.history['val_accuracy'],label='val_accuracy')\n",
        "ax[0,1].set_title('Accuracy')\n",
        "ax[0,1].legend()\n",
        "\n",
        "# plot model functional loss\n",
        "ax[1,0].plot(range(1,epoch_func+1),history_functional_tuned.history['loss'],label='train_loss')\n",
        "ax[1,0].plot(range(1,epoch_func+1),history_functional_tuned.history['val_loss'],label='val_loss')\n",
        "ax[1,0].legend()\n",
        "ax[1,0].set_xlabel('Epoch')\n",
        "\n",
        "# plot model functional accuracy\n",
        "ax[1,1].plot(range(1,epoch_func+1),history_functional_tuned.history['accuracy'],label='train_accuracy')\n",
        "ax[1,1].plot(range(1,epoch_func+1),history_functional_tuned.history['val_accuracy'],label='val_accuracy')\n",
        "ax[1,1].legend()\n",
        "ax[1,1].set_xlabel('Epoch')\n",
        "\n",
        "plt.show()"
      ]
    },
    {
      "attachments": {},
      "cell_type": "markdown",
      "metadata": {},
      "source": [
        "Secara global di bandingkan model sebelumnya terlihat bahwa setelah di optimisasi performa pada data train dan data set lebih dekat satu sama lain.\n",
        "\n",
        "Model tetap mengalami peningkatan performa dan `tidak ditemukan` gradient explode maupun gradient vanish"
      ]
    },
    {
      "attachments": {},
      "cell_type": "markdown",
      "metadata": {},
      "source": [
        "## Model Evaluate On Data Test"
      ]
    },
    {
      "cell_type": "code",
      "execution_count": 63,
      "metadata": {},
      "outputs": [
        {
          "name": "stdout",
          "output_type": "stream",
          "text": [
            "Evaluate Model Sequential on test data\n",
            "Test - Loss     :  0.16659972071647644\n",
            "Test - Accuracy :  0.93165123462677\n",
            "\n",
            "Evaluate Model Functional on test data\n",
            "Test - Loss     :  0.15238380432128906\n",
            "Test - Accuracy :  0.9348450899124146\n"
          ]
        }
      ],
      "source": [
        "## Evaluate on a dataset test.\n",
        "\n",
        "with tf.device('/gpu:0'):\n",
        "    result_sequential_tuned = model_sequential_tuned.evaluate(test_dataset, verbose=0)\n",
        "    result_functional_tuned = model_functional_tuned.evaluate(test_dataset, verbose=0)\n",
        "print(\"Evaluate Model Sequential on test data\")\n",
        "print('Test - Loss     : ', result_sequential_tuned[0])\n",
        "print('Test - Accuracy : ', result_sequential_tuned[1])\n",
        "print('')\n",
        "print(\"Evaluate Model Functional on test data\")\n",
        "print('Test - Loss     : ', result_functional_tuned[0])\n",
        "print('Test - Accuracy : ', result_functional_tuned[1])"
      ]
    },
    {
      "attachments": {},
      "cell_type": "markdown",
      "metadata": {},
      "source": [
        "- Performa pada data test tidak begitu berbeda dengan model sebelumnya optimisasi yaitu pada range `0.93`. \n",
        "- Sedikit mengalami peningkatan pada model Functional API dari `0.9313` menjadi `0.9348`\n",
        "- Namun mengalami penurunan pada Kedua model Sequential dari `0.9335` mejadi `0.9331` "
      ]
    },
    {
      "attachments": {},
      "cell_type": "markdown",
      "metadata": {},
      "source": [
        "## Optimization Conclusion"
      ]
    },
    {
      "attachments": {},
      "cell_type": "markdown",
      "metadata": {},
      "source": [
        "- Secara global dapat di ambil kesimpulan bahwa model mengalami penignkatan dari segi performa meski tidak begitu signifikan\n",
        "- Yang cukup berubah adalah arsitektur model dari sebelumnya cukup kompleks dengan banyak total parameter menjadi 1/4 dari total parameter awal\n",
        "- Pada dataset ini fungsi aktivasi relu membutuhkan architecture yang lebih kompleks dibandingakna dengan fungsi aktivasi tanh"
      ]
    },
    {
      "attachments": {},
      "cell_type": "markdown",
      "metadata": {
        "id": "d3YszCCaDr2Z"
      },
      "source": [
        "# 10 - Model Saving"
      ]
    },
    {
      "attachments": {},
      "cell_type": "markdown",
      "metadata": {},
      "source": [
        "Setelah model penulis anggap maksimal maka selanjutnya adalah proses penyimpanan model sehingga dapat di gunakan tanpa harus di lakukan train kembali\n",
        "\n",
        "Model yang dipilih adalah model yang memiliki nilai Accuracy score paling tinggi"
      ]
    },
    {
      "cell_type": "code",
      "execution_count": 64,
      "metadata": {
        "id": "VMnUJHTEE8vX"
      },
      "outputs": [],
      "source": [
        "# preprocessor \n",
        "with open('preprocessor.pkl', 'wb') as file_1:\n",
        "  pickle.dump(preprocessor, file_1)\n",
        "\n",
        "# model\n",
        "model_functional_tuned.save('best_model.h5')\n"
      ]
    },
    {
      "attachments": {},
      "cell_type": "markdown",
      "metadata": {
        "id": "mnYgSVRBMzbT"
      },
      "source": [
        "# 10 - Pengambilan Kesimpulan\n",
        "## Model Analysis\n",
        "\n",
        "Beberapa analisa dari model :\n",
        "- Sebelum dan setelah optimisasi model memiliki performa yang cukup baik pada\n",
        "- Namun setelah optimisasi performa model sedikit lebih baik menjadi `0.9348` dan menjadi best model untuk digunakan pada model deployment.\n",
        "- Fungsi aktivasi `relu` memerlukan architectur yang lebih kompleks di bandingkan dengan `tanh`\n",
        "- Best model memiliki informasi sbb:\n",
        "    - Jumlah layer 5\n",
        "    - Input layar 21 neuron sesuai dengan dimensi data train\n",
        "    - Jumlah hidden layaer adalah 3 layer. \n",
        "        - 8 Neuron pada hidden layer 1\n",
        "        - 4 Neuron pada hidden layer 2\n",
        "        - 2 Neuron pada hidden layer 3\n",
        "    - Output layer memiliki 1 neuron sesuai dengan dimensi target\n",
        "    - Fungsi aktivasi\n",
        "        - Input layer dan hidden layer adalah fungsi aktivasi `tanh`\n",
        "        - Output layer karena merupakan prediksi binary maka menggunakan fungsi aktivasi `sigmoid`\n",
        "\n",
        "### Kelebihan dan Kelamahan Model : \n",
        "- Kelebihan :\n",
        "    - Secara global model cukup baik memprediksi\n",
        "    - Model memiliki performa yang sama antara data train dan data test\n",
        "- Kelemahan : \n",
        "    - Kombinasi antara jumlah neuron, jumlah layer, fungsi aktivasi dan parameter lainnya harus b\n",
        "\n",
        "### Further Improvement\n",
        "Untuk imporvement selanjutnya dari model ini adalah sbb :\n",
        "- Data preprocessing dengan menggunakan metode lainnya. Seperti metode capping, metode tranformasi lainnya.\n",
        "- Pada saat dataset loading dengan tensorflow dilakukan proses yang lebih beragam antara shuffle, repeat, atau batch size.\n",
        "- Melakukan architecture tuning dengan kombinasi jumlah layer, jumlah neuron, dan paramaeter lainnya yang lebih beragam agar mendapatkan model dengan performa lebih baik\n"
      ]
    },
    {
      "attachments": {},
      "cell_type": "markdown",
      "metadata": {},
      "source": [
        "## Overall Analysis\n",
        "### Secara keseluruhan proses yang dilakukan pada project ini adalah:\n",
        "\n",
        "- Import semua library yang di butuhkan\n",
        "- Load dataset dan eksplorasi basic info dari data\n",
        "- Exploarsi Data Analytics untuk menemukan insight. Pada tahapan ini juga mencari informasi menarik atau insight bussiness maupun informasi yang dapat digukanan untuk pemilihan fitur\n",
        "- Memilih fitur dengan Korelasi antara fitur dengan target menggunakan phik korelasi\n",
        "- Handling Missin Value\n",
        "- Feature Engineering dimana pada tahap ini melakukan beberapa hal seperti :\n",
        "    - Cek multicolinarity\n",
        "    - Handle outlier dengan cara trimming apabila outlier dibawah 5% dan capping dengan winsorizer jika diatas 5%\n",
        "    - Scaling dengan Standard Scaler\n",
        "    - Encoding dengan One Hot Encoder dan Ordinal Encoder\n",
        "- Dataset Loading dengan Tensorflow pipeline\n",
        "- Model Defenition and Training\n",
        "    - Define Architecture dan compiler\n",
        "- Evaluasi model dengan menggunakan summary dari model dan juga history training. Kemudian menentukan optimisasi apa yang dapat dilakukan agar model memiliki performa lebih baik\n",
        "- Tuning dengan mencoba beberapa kombinasi arsitektur dan optimizer \n",
        "- Saving best model dari baseline model atau model yang sudah di tuning\n"
      ]
    },
    {
      "attachments": {},
      "cell_type": "markdown",
      "metadata": {},
      "source": [
        "### Beberapa informasi yang dapat diperoleh dari proses EDA adalah :\n",
        "\n",
        "- Secara global, customer yang akan `churn` sebanyak `20018 customer` sedangkan yang `tidak` sebanyak `16992`\n",
        "\n",
        "- Secara global beberapa yang membedakan antara customer yang akan churn dan tidak adalah sbb :\n",
        "    - Customer yang churn memiliki :\n",
        "        - Rata - rata `points in wallet` lebih rendah dari yang tidak churn\n",
        "        - Memiliki `avg transaction` lebih sedikit dari yang tidak churn\n",
        "\n",
        "- Customer yang churn maupun yang tidak memiliki `demografi days_since_join, day since last login, avg login frequency, dan avg time spent yang relatif serupa.`\n",
        "- Karakteristik customer yang `akan churn` sbb :\n",
        "    - Mayoritas Adalah customer yang `tidak memiliki membership dan basic membership` dan sedikit customer dengan gold dan silver membership\n",
        "    - Semua feedback dari customer adalah `feedback negatif`\n",
        "    - Perbandingan antara customer yang mendaftar dengan refferal dan tidak relatif sama\n",
        "    - Perbandingan antara customer yang menggunakan offer dan jenis offer yang di pakai juga relatif sama"
      ]
    },
    {
      "attachments": {},
      "cell_type": "markdown",
      "metadata": {},
      "source": [
        "- Karakteristik customer yang `tidak churn` sbb :\n",
        "    - Sangat `sedikit` customer yang tidak memiliki membership ataupun hanya `basic membership`\n",
        "    - Feedback negatif mendominasi meski terdapat juga `feedback positif` \n",
        "    - Perbandingan antara customer yang mendaftar dengan refferal dan tidak relatif sama\n",
        "    - Perbandingan antara customer yang menggunakan offer dan jenis offer yang di pakai juga relatif sama"
      ]
    }
  ],
  "metadata": {
    "colab": {
      "provenance": [],
      "toc_visible": true
    },
    "kernelspec": {
      "display_name": "tf",
      "language": "python",
      "name": "python3"
    },
    "language_info": {
      "codemirror_mode": {
        "name": "ipython",
        "version": 3
      },
      "file_extension": ".py",
      "mimetype": "text/x-python",
      "name": "python",
      "nbconvert_exporter": "python",
      "pygments_lexer": "ipython3",
      "version": "3.9.16"
    },
    "vscode": {
      "interpreter": {
        "hash": "097e830728b4a6c03748c73b06414c7be6ac86df32692369f1ee540791557654"
      }
    }
  },
  "nbformat": 4,
  "nbformat_minor": 0
}
